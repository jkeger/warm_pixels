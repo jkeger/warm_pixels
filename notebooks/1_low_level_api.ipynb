{
 "cells": [
  {
   "cell_type": "code",
   "execution_count": null,
   "metadata": {
    "collapsed": true,
    "pycharm": {
     "is_executing": true
    }
   },
   "outputs": [
    {
     "name": "stderr",
     "output_type": "stream",
     "text": [
      "WARNING:autoconf.conf:Pushing new config with path /Users/richardhayes/anaconda3/envs/warm_pixels/lib/python3.8/site-packages/autoarray/config\n",
      "WARNING:autoconf.conf:No configuration found at path /Users/richardhayes/cti/warm_pixels/notebooks/config\n"
     ]
    }
   ],
   "source": [
    "from pathlib import Path\n",
    "\n",
    "import warm_pixels as wp\n",
    "\n",
    "# We assume our data is in a directory parallel to warm_pixels called 'hst_acs_datasets'\n",
    "data_directory = Path.cwd().parent.parent / \"hst_acs_datasets\"\n",
    "dataset_directory = data_directory / \"04_2017\"\n",
    "image_filename = dataset_directory / \"jd5h08qoq_raw.fits\"\n",
    "\n",
    "# An image can be created by passing a filename\n",
    "image = wp.Image(image_filename)\n",
    "\n",
    "# We can easily extract a particular quadrant from the image\n",
    "image_quadrant = image.quadrant(\"A\")\n",
    "\n",
    "# And plot warm pixels for that image\n",
    "wp.plot.warm_pixels(image_quadrant)"
   ]
  },
  {
   "cell_type": "code",
   "execution_count": null,
   "outputs": [],
   "source": [
    "# A dataset can be created by passing directory\n",
    "dataset = wp.Dataset(dataset_directory)\n",
    "\n",
    "# Datasets contain images\n",
    "print(len(dataset))\n",
    "image = dataset[0]\n",
    "wp.plot.warm_pixels(\n",
    "    image.quadrant(\"B\")\n",
    ")"
   ],
   "metadata": {
    "collapsed": false,
    "pycharm": {
     "name": "#%%\n",
     "is_executing": true
    }
   }
  },
  {
   "cell_type": "code",
   "execution_count": null,
   "outputs": [],
   "source": [
    "# We can also take a quadrant for a dataset\n",
    "dataset_quadrants = [\n",
    "    dataset.quadrant(\"A\"),\n",
    "    dataset.quadrant(\"B\"),\n",
    "]\n",
    "\n",
    "# And then plot the distribution of warm pixels\n",
    "wp.plot.warm_pixel_distributions(\n",
    "    dataset_quadrants\n",
    ")"
   ],
   "metadata": {
    "collapsed": false,
    "pycharm": {
     "name": "#%%\n",
     "is_executing": true
    }
   }
  },
  {
   "cell_type": "code",
   "execution_count": null,
   "outputs": [],
   "source": [
    "# Groups of quadrants can be obtained for a dataset\n",
    "group = dataset.group(\"AB\")\n",
    "\n",
    "# Stacked trails may be plotted for a group\n",
    "wp.plot.stacked_trails(group)"
   ],
   "metadata": {
    "collapsed": false,
    "pycharm": {
     "name": "#%%\n",
     "is_executing": true
    }
   }
  },
  {
   "cell_type": "code",
   "execution_count": null,
   "outputs": [],
   "source": [
    "# A WarmPixels object can be created to encapsulate multiple datasets\n",
    "\n",
    "dataset_2 = wp.Dataset(\n",
    "    data_directory / \"10_2017\"\n",
    ")\n",
    "\n",
    "warm_pixels = wp.WarmPixels(\n",
    "    datasets=[\n",
    "        dataset,\n",
    "        dataset_2,\n",
    "    ],\n",
    "    quadrants_string=\"A_B\"\n",
    ")\n",
    "\n",
    "# Warm pixels can provide trap densities over time\n",
    "trap_densities = warm_pixels.all_trap_densities()\n",
    "\n",
    "# Which can also be plotted\n",
    "wp.plot.trap_density_evol(trap_densities)"
   ],
   "metadata": {
    "collapsed": false,
    "pycharm": {
     "name": "#%%\n",
     "is_executing": true
    }
   }
  }
 ],
 "metadata": {
  "kernelspec": {
   "display_name": "Python 3",
   "language": "python",
   "name": "python3"
  },
  "language_info": {
   "codemirror_mode": {
    "name": "ipython",
    "version": 2
   },
   "file_extension": ".py",
   "mimetype": "text/x-python",
   "name": "python",
   "nbconvert_exporter": "python",
   "pygments_lexer": "ipython2",
   "version": "2.7.6"
  }
 },
 "nbformat": 4,
 "nbformat_minor": 0
}