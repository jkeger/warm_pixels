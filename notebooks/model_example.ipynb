{
 "cells": [
  {
   "cell_type": "code",
   "execution_count": 3,
   "metadata": {
    "collapsed": true
   },
   "outputs": [
    {
     "name": "stdout",
     "output_type": "stream",
     "text": [
      "/Users/richardhayes/cti/hst_acs_datasets\n"
     ]
    }
   ],
   "source": [
    "import warm_pixels as wp\n",
    "\n",
    "from pathlib import Path\n",
    "\n",
    "\n",
    "data_directory = Path.cwd().parent.parent / \"hst_acs_datasets\"\n",
    "dataset_directory = data_directory / \"04_2017\"\n",
    "image_filename = dataset_directory / \"jd5h08qoq_raw.fits\"\n",
    "\n",
    "print(data_directory)\n",
    "image = wp.Image(image_filename)\n",
    "quadrant_a = image.load_quadrant(\"A\")\n",
    "\n",
    "wp.plot_warm_pixel_distributions([\n",
    "    quadrant_a\n",
    "])"
   ]
  }
 ],
 "metadata": {
  "kernelspec": {
   "display_name": "Python 3",
   "language": "python",
   "name": "python3"
  },
  "language_info": {
   "codemirror_mode": {
    "name": "ipython",
    "version": 2
   },
   "file_extension": ".py",
   "mimetype": "text/x-python",
   "name": "python",
   "nbconvert_exporter": "python",
   "pygments_lexer": "ipython2",
   "version": "2.7.6"
  }
 },
 "nbformat": 4,
 "nbformat_minor": 0
}