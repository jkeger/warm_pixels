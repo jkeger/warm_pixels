{
 "cells": [
  {
   "cell_type": "code",
   "execution_count": 3,
   "metadata": {
    "collapsed": true
   },
   "outputs": [
    {
     "name": "stdout",
     "output_type": "stream",
     "text": [
      "{2457849.1443402776: 2, 2459039.171909722: 2, 2458030.3502430557: 1, 2453963.758414352: 4, 2453989.7788078706: 1}\n"
     ]
    }
   ],
   "source": [
    "import json\n",
    "import os\n",
    "from collections import defaultdict\n",
    "from pathlib import Path\n",
    "\n",
    "data_directory = Path(os.path.abspath(\"\")) / \"data\"\n",
    "\n",
    "\"\"\"\n",
    "./hst_warm_pixels.py ../hst_acs_datasets --output stacked-lines\n",
    "\"\"\"\n",
    "with open(data_directory / \"stacked_lines.json\") as f:\n",
    "    stacked_lines = json.load(f)\n",
    "\n",
    "date_groups = defaultdict(list)\n",
    "\n",
    "for stacked_line in stacked_lines:\n",
    "    date_groups[stacked_line['date']].append(stacked_line)\n",
    "\n",
    "print({\n",
    "    date: len(lines)\n",
    "    for date, lines\n",
    "    in date_groups.items()\n",
    "})"
   ]
  },
  {
   "cell_type": "code",
   "execution_count": 4,
   "outputs": [],
   "source": [
    "from warm_pixels.fit.analysis import Analysis\n",
    "from warm_pixels.fit.model import TrailModel\n",
    "from warm_pixels import hst_utilities as ut, PixelLine\n",
    "import autofit as af\n",
    "\n",
    "\"\"\"\n",
    "We define global parameters which are true for any image captured\n",
    "\"\"\"\n",
    "# CCD\n",
    "w = 84700.0\n",
    "# Trap species\n",
    "a = 0.17\n",
    "b = 0.45\n",
    "c = 0.38\n",
    "\n",
    "\"\"\"\n",
    "The global beta is allowed to vary\n",
    "\"\"\"\n",
    "beta = af.GaussianPrior(\n",
    "    mean=0.478,\n",
    "    sigma=0.1,\n",
    ")\n",
    "\n",
    "analyses = []\n",
    "\n",
    "\"\"\"\n",
    "For each date we'll need a different model\n",
    "\"\"\"\n",
    "for date, pixel_lines in date_groups.items():\n",
    "\n",
    "    \"\"\"\n",
    "    First we set constant values for the trap lifetimes. These could also\n",
    "    be allowed to vary\n",
    "    \"\"\"\n",
    "    # Trap lifetimes before or after the temperature change\n",
    "    if date < ut.date_T_change:\n",
    "        tau_a = 0.48\n",
    "        tau_b = 4.86\n",
    "        tau_c = 20.6\n",
    "    else:\n",
    "        tau_a = 0.74\n",
    "        tau_b = 7.70\n",
    "        tau_c = 37.0\n",
    "\n",
    "    \"\"\"\n",
    "    For each date we have a variable rho_q\n",
    "    \"\"\"\n",
    "    rho_q = af.UniformPrior(\n",
    "        lower_limit=0.0,\n",
    "        upper_limit=10.0,\n",
    "    )\n",
    "\n",
    "    \"\"\"\n",
    "    Each date has its own model. Note that the beta prior is shared\n",
    "    by every model, whilst each model has its own rho_q\n",
    "    \"\"\"\n",
    "    model = af.Model(\n",
    "        TrailModel,\n",
    "        rho_q=rho_q,\n",
    "        beta=beta,\n",
    "        w=w,\n",
    "        a=a,\n",
    "        b=b,\n",
    "        c=c,\n",
    "        tau_a=tau_a,\n",
    "        tau_b=tau_b,\n",
    "        tau_c=tau_c,\n",
    "    )\n",
    "\n",
    "    \"\"\"\n",
    "    For each pixel line we need a unique analysis. Each of these analyses\n",
    "    is combined with the model for the date on which the pixel line was\n",
    "    captured.\n",
    "    \"\"\"\n",
    "    for pixel_line in pixel_lines:\n",
    "        analysis = Analysis(\n",
    "            pixel_line=PixelLine.from_dict(pixel_line),\n",
    "        ).with_model(model)\n",
    "        analyses.append(analysis)\n",
    "\n",
    "\"\"\"\n",
    "Finally we create our overall analysis by summing the other analyses together.\n",
    "\"\"\"\n",
    "analysis = sum(analyses)"
   ],
   "metadata": {
    "collapsed": false,
    "pycharm": {
     "name": "#%%\n"
    }
   }
  },
  {
   "cell_type": "code",
   "execution_count": 5,
   "outputs": [
    {
     "name": "stdout",
     "output_type": "stream",
     "text": [
      "2022-10-10 12:04:51,773 - autofit.non_linear.abstract_search - INFO - Creating search\n",
      "2022-10-10 12:04:51,774 - root - INFO - Starting search\n",
      "2022-10-10 12:04:51,777 - root - INFO - Saving path info\n",
      "2022-10-10 12:04:51,778 - root - INFO - Not complete. Starting non-linear search.\n",
      "2022-10-10 12:04:51,779 - autofit.non_linear.initializer - INFO - Generating initial samples of model, which are subject to prior limits and other constraints.\n",
      "2022-10-10 12:04:51,864 - root - INFO - No Dynesty samples found, beginning new non-linear search. \n"
     ]
    },
    {
     "name": "stderr",
     "output_type": "stream",
     "text": [
      "429it [00:11, 36.06it/s, +50 | bound: 33 | nc: 1 | ncall: 5054 | eff(%):  9.478 | loglstar:   -inf < -1003.804 <    inf | logz: -1016.924 +/-  0.904 | dlogz:  1.099 >  0.059]"
     ]
    },
    {
     "name": "stdout",
     "output_type": "stream",
     "text": [
      "2022-10-10 12:05:03,777 - root - INFO - 5000 Iterations: Performing update (Visualization, outputting samples, etc.).\n"
     ]
    },
    {
     "name": "stderr",
     "output_type": "stream",
     "text": [
      "\n",
      "585it [00:12, 47.11it/s, +50 | bound: 86 | nc: 1 | ncall: 10079 | eff(%):  6.300 | loglstar:   -inf < -922.608 <    inf | logz: -938.818 +/-  0.897 | dlogz:  1.099 >  0.059]"
     ]
    },
    {
     "name": "stdout",
     "output_type": "stream",
     "text": [
      "2022-10-10 12:05:16,218 - root - INFO - 10000 Iterations: Performing update (Visualization, outputting samples, etc.).\n"
     ]
    },
    {
     "name": "stderr",
     "output_type": "stream",
     "text": [
      "\n",
      "684it [00:12, 55.22it/s, +50 | bound: 143 | nc: 1 | ncall: 15331 | eff(%):  4.788 | loglstar:   -inf < -922.608 <    inf | logz: -940.778 +/-  0.971 | dlogz:  1.099 >  0.059]"
     ]
    },
    {
     "name": "stdout",
     "output_type": "stream",
     "text": [
      "2022-10-10 12:05:28,643 - root - INFO - 15000 Iterations: Performing update (Visualization, outputting samples, etc.).\n"
     ]
    },
    {
     "name": "stderr",
     "output_type": "stream",
     "text": [
      "\n",
      "756it [00:13, 55.39it/s, +50 | bound: 199 | nc: 1 | ncall: 20499 | eff(%):  3.932 | loglstar:   -inf < -899.512 <    inf | logz: -919.107 +/-  1.052 | dlogz:  1.099 >  0.059]"
     ]
    },
    {
     "name": "stdout",
     "output_type": "stream",
     "text": [
      "2022-10-10 12:05:42,344 - root - INFO - 20000 Iterations: Performing update (Visualization, outputting samples, etc.).\n"
     ]
    },
    {
     "name": "stderr",
     "output_type": "stream",
     "text": [
      "\n",
      "792it [00:11, 69.72it/s, +50 | bound: 257 | nc: 1 | ncall: 25610 | eff(%):  3.288 | loglstar:   -inf < -899.512 <    inf | logz: -919.819 +/-  1.327 | dlogz:  1.098 >  0.059]"
     ]
    },
    {
     "name": "stdout",
     "output_type": "stream",
     "text": [
      "2022-10-10 12:05:53,763 - root - INFO - 25000 Iterations: Performing update (Visualization, outputting samples, etc.).\n"
     ]
    },
    {
     "name": "stderr",
     "output_type": "stream",
     "text": [
      "\n",
      "814it [00:14, 55.82it/s, +50 | bound: 318 | nc: 1 | ncall: 30757 | eff(%):  2.809 | loglstar:   -inf < -890.439 <    inf | logz: -911.183 +/-  1.202 | dlogz:  1.098 >  0.059]"
     ]
    },
    {
     "name": "stdout",
     "output_type": "stream",
     "text": [
      "2022-10-10 12:06:08,411 - root - INFO - 30000 Iterations: Performing update (Visualization, outputting samples, etc.).\n"
     ]
    },
    {
     "name": "stderr",
     "output_type": "stream",
     "text": [
      "\n",
      "852it [00:14, 56.83it/s, +50 | bound: 387 | nc: 1 | ncall: 36533 | eff(%):  2.469 | loglstar:   -inf < -878.872 <    inf | logz: -900.369 +/-  1.307 | dlogz:  1.099 >  0.059]"
     ]
    },
    {
     "name": "stdout",
     "output_type": "stream",
     "text": [
      "2022-10-10 12:06:23,481 - root - INFO - 35000 Iterations: Performing update (Visualization, outputting samples, etc.).\n"
     ]
    },
    {
     "name": "stderr",
     "output_type": "stream",
     "text": [
      "\n",
      "868it [00:15, 55.39it/s, +50 | bound: 450 | nc: 1 | ncall: 41781 | eff(%):  2.197 | loglstar:   -inf < -857.617 <    inf | logz: -879.431 +/-  1.314 | dlogz:  1.099 >  0.059]"
     ]
    },
    {
     "name": "stdout",
     "output_type": "stream",
     "text": [
      "2022-10-10 12:06:39,240 - root - INFO - 40000 Iterations: Performing update (Visualization, outputting samples, etc.).\n"
     ]
    },
    {
     "name": "stderr",
     "output_type": "stream",
     "text": [
      "\n",
      "917it [00:12, 75.68it/s, +50 | bound: 508 | nc: 1 | ncall: 46789 | eff(%):  2.067 | loglstar:   -inf < -857.617 <    inf | logz: -880.396 +/-  1.303 | dlogz:  1.095 >  0.059]"
     ]
    },
    {
     "name": "stdout",
     "output_type": "stream",
     "text": [
      "2022-10-10 12:06:51,460 - root - INFO - 45000 Iterations: Performing update (Visualization, outputting samples, etc.).\n"
     ]
    },
    {
     "name": "stderr",
     "output_type": "stream",
     "text": [
      "\n",
      "999it [00:12, 81.29it/s, +50 | bound: 563 | nc: 1 | ncall: 51793 | eff(%):  2.025 | loglstar:   -inf < -853.816 <    inf | logz: -878.176 +/-  1.449 | dlogz:  1.067 >  0.059]"
     ]
    },
    {
     "name": "stdout",
     "output_type": "stream",
     "text": [
      "2022-10-10 12:07:03,987 - root - INFO - 50000 Iterations: Performing update (Visualization, outputting samples, etc.).\n"
     ]
    },
    {
     "name": "stderr",
     "output_type": "stream",
     "text": [
      "\n",
      "1028it [00:11, 87.84it/s, +50 | bound: 623 | nc: 1 | ncall: 57068 | eff(%):  1.889 | loglstar:   -inf < -853.816 <    inf | logz: -878.750 +/-  1.594 | dlogz:  1.067 >  0.059]"
     ]
    },
    {
     "name": "stdout",
     "output_type": "stream",
     "text": [
      "2022-10-10 12:07:15,849 - root - INFO - 55000 Iterations: Performing update (Visualization, outputting samples, etc.).\n"
     ]
    },
    {
     "name": "stderr",
     "output_type": "stream",
     "text": [
      "\n",
      "1060it [00:13, 78.08it/s, +50 | bound: 684 | nc: 1 | ncall: 62348 | eff(%):  1.780 | loglstar:   -inf < -851.957 <    inf | logz: -877.209 +/-  1.283 | dlogz:  0.871 >  0.059]"
     ]
    },
    {
     "name": "stdout",
     "output_type": "stream",
     "text": [
      "2022-10-10 12:07:29,614 - root - INFO - 60000 Iterations: Performing update (Visualization, outputting samples, etc.).\n"
     ]
    },
    {
     "name": "stderr",
     "output_type": "stream",
     "text": [
      "\n",
      "1071it [00:12, 85.86it/s, +50 | bound: 747 | nc: 1 | ncall: 67368 | eff(%):  1.664 | loglstar:   -inf < -851.957 <    inf | logz: -877.425 +/-  1.352 | dlogz:  0.870 >  0.059]"
     ]
    },
    {
     "name": "stdout",
     "output_type": "stream",
     "text": [
      "2022-10-10 12:07:42,290 - root - INFO - 65000 Iterations: Performing update (Visualization, outputting samples, etc.).\n"
     ]
    },
    {
     "name": "stderr",
     "output_type": "stream",
     "text": [
      "\n",
      "1075it [00:16, 63.65it/s, +50 | bound: 829 | nc: 1 | ncall: 73649 | eff(%):  1.528 | loglstar:   -inf < -851.957 <    inf | logz: -877.504 +/-  1.357 | dlogz:  0.870 >  0.059]"
     ]
    },
    {
     "name": "stdout",
     "output_type": "stream",
     "text": [
      "2022-10-10 12:07:59,367 - root - INFO - 70000 Iterations: Performing update (Visualization, outputting samples, etc.).\n"
     ]
    },
    {
     "name": "stderr",
     "output_type": "stream",
     "text": [
      "\n",
      "1085it [00:15, 68.87it/s, +50 | bound: 896 | nc: 1 | ncall: 79001 | eff(%):  1.437 | loglstar:   -inf < -849.424 <    inf | logz: -875.338 +/-  1.539 | dlogz:  0.972 >  0.059]"
     ]
    },
    {
     "name": "stdout",
     "output_type": "stream",
     "text": [
      "2022-10-10 12:08:15,334 - root - INFO - 75000 Iterations: Performing update (Visualization, outputting samples, etc.).\n"
     ]
    },
    {
     "name": "stderr",
     "output_type": "stream",
     "text": [
      "\n",
      "1097it [00:15, 72.72it/s, +50 | bound: 960 | nc: 1 | ncall: 84091 | eff(%):  1.364 | loglstar:   -inf < -849.424 <    inf | logz: -875.566 +/-  1.626 | dlogz:  0.966 >  0.059]"
     ]
    },
    {
     "name": "stdout",
     "output_type": "stream",
     "text": [
      "2022-10-10 12:08:30,662 - root - INFO - 80000 Iterations: Performing update (Visualization, outputting samples, etc.).\n"
     ]
    },
    {
     "name": "stderr",
     "output_type": "stream",
     "text": [
      "\n",
      "1148it [00:12, 88.64it/s, +50 | bound: 1015 | nc: 1 | ncall: 89112 | eff(%):  1.344 | loglstar:   -inf < -848.041 <    inf | logz: -873.751 +/-  1.082 | dlogz:  0.325 >  0.059]"
     ]
    },
    {
     "name": "stdout",
     "output_type": "stream",
     "text": [
      "2022-10-10 12:08:43,969 - root - INFO - 85000 Iterations: Performing update (Visualization, outputting samples, etc.).\n"
     ]
    },
    {
     "name": "stderr",
     "output_type": "stream",
     "text": [
      "\n",
      "1198it [00:11, 103.34it/s, +50 | bound: 1073 | nc: 1 | ncall: 94190 | eff(%):  1.325 | loglstar:   -inf < -844.668 <    inf | logz: -872.250 +/-  1.447 | dlogz:  0.657 >  0.059]"
     ]
    },
    {
     "name": "stdout",
     "output_type": "stream",
     "text": [
      "2022-10-10 12:08:55,799 - root - INFO - 90000 Iterations: Performing update (Visualization, outputting samples, etc.).\n"
     ]
    },
    {
     "name": "stderr",
     "output_type": "stream",
     "text": [
      "\n",
      "1255it [00:12, 97.54it/s, +50 | bound: 1127 | nc: 1 | ncall: 99204 | eff(%):  1.315 | loglstar:   -inf < -839.964 <    inf | logz: -868.456 +/-  1.417 | dlogz:  0.557 >  0.059]"
     ]
    },
    {
     "name": "stdout",
     "output_type": "stream",
     "text": [
      "2022-10-10 12:09:08,926 - root - INFO - 95000 Iterations: Performing update (Visualization, outputting samples, etc.).\n"
     ]
    },
    {
     "name": "stderr",
     "output_type": "stream",
     "text": [
      "\n",
      "1305it [00:11, 115.43it/s, +50 | bound: 1181 | nc: 1 | ncall: 104222 | eff(%):  1.300 | loglstar:   -inf < -839.964 <    inf | logz: -869.138 +/-  1.477 | dlogz:  0.437 >  0.059]"
     ]
    },
    {
     "name": "stdout",
     "output_type": "stream",
     "text": [
      "2022-10-10 12:09:20,526 - root - INFO - 100000 Iterations: Performing update (Visualization, outputting samples, etc.).\n"
     ]
    },
    {
     "name": "stderr",
     "output_type": "stream",
     "text": [
      "\n",
      "1343it [00:12, 109.55it/s, +50 | bound: 1239 | nc: 1 | ncall: 109295 | eff(%):  1.275 | loglstar:   -inf < -838.667 <    inf | logz: -868.392 +/-  1.382 | dlogz:  0.371 >  0.059]"
     ]
    },
    {
     "name": "stdout",
     "output_type": "stream",
     "text": [
      "2022-10-10 12:09:33,095 - root - INFO - 105000 Iterations: Performing update (Visualization, outputting samples, etc.).\n"
     ]
    },
    {
     "name": "stderr",
     "output_type": "stream",
     "text": [
      "\n",
      "1389it [00:12, 113.71it/s, +50 | bound: 1296 | nc: 1 | ncall: 114330 | eff(%):  1.259 | loglstar:   -inf < -838.667 <    inf | logz: -868.213 +/-  1.192 | dlogz:  0.141 >  0.059]"
     ]
    },
    {
     "name": "stdout",
     "output_type": "stream",
     "text": [
      "2022-10-10 12:09:45,616 - root - INFO - 110000 Iterations: Performing update (Visualization, outputting samples, etc.).\n"
     ]
    },
    {
     "name": "stderr",
     "output_type": "stream",
     "text": [
      "\n",
      "1421it [00:13, 107.29it/s, +50 | bound: 1359 | nc: 1 | ncall: 119756 | eff(%):  1.228 | loglstar:   -inf < -838.524 <    inf | logz: -868.124 +/-  1.173 | dlogz:  0.081 >  0.059]"
     ]
    },
    {
     "name": "stdout",
     "output_type": "stream",
     "text": [
      "2022-10-10 12:09:59,266 - root - INFO - 115000 Iterations: Performing update (Visualization, outputting samples, etc.).\n"
     ]
    },
    {
     "name": "stderr",
     "output_type": "stream",
     "text": [
      "\n",
      "1462it [00:13, 109.56it/s, +50 | bound: 1415 | nc: 1 | ncall: 124792 | eff(%):  1.212 | loglstar:   -inf < -837.033 <    inf | logz: -867.759 +/-  1.208 | dlogz:  0.109 >  0.059]"
     ]
    },
    {
     "name": "stdout",
     "output_type": "stream",
     "text": [
      "2022-10-10 12:10:12,951 - root - INFO - 120000 Iterations: Performing update (Visualization, outputting samples, etc.).\n"
     ]
    },
    {
     "name": "stderr",
     "output_type": "stream",
     "text": [
      "\n",
      "1514it [00:12, 118.52it/s, +50 | bound: 1473 | nc: 1 | ncall: 130167 | eff(%):  1.202 | loglstar:   -inf < -835.410 <    inf | logz: -867.320 +/-  1.300 | dlogz:  0.127 >  0.059]"
     ]
    },
    {
     "name": "stdout",
     "output_type": "stream",
     "text": [
      "2022-10-10 12:10:26,052 - root - INFO - 125000 Iterations: Performing update (Visualization, outputting samples, etc.).\n"
     ]
    },
    {
     "name": "stderr",
     "output_type": "stream",
     "text": [
      "\n",
      "1587it [00:13, 121.34it/s, +50 | bound: 1529 | nc: 1 | ncall: 135207 | eff(%):  1.211 | loglstar:   -inf < -835.410 <    inf | logz: -867.347 +/-  1.148 | dlogz:  0.032 >  0.059]"
     ]
    },
    {
     "name": "stdout",
     "output_type": "stream",
     "text": [
      "2022-10-10 12:10:39,458 - root - INFO - 130000 Iterations: Performing update (Visualization, outputting samples, etc.).\n"
     ]
    },
    {
     "name": "stderr",
     "output_type": "stream",
     "text": [
      "\n",
      "1650it [00:11, 137.84it/s, +50 | bound: 1586 | nc: 1 | ncall: 140266 | eff(%):  1.212 | loglstar:   -inf < -835.111 <    inf | logz: -867.323 +/-  1.116 | dlogz:  0.012 >  0.059]"
     ]
    },
    {
     "name": "stdout",
     "output_type": "stream",
     "text": [
      "2022-10-10 12:10:51,903 - root - INFO - 135000 Iterations: Performing update (Visualization, outputting samples, etc.).\n"
     ]
    },
    {
     "name": "stderr",
     "output_type": "stream",
     "text": [
      "\n",
      "1698it [00:10, 158.63it/s, +50 | bound: 1643 | nc: 1 | ncall: 145306 | eff(%):  1.203 | loglstar:   -inf < -835.031 <    inf | logz: -867.320 +/-  1.092 | dlogz:  0.005 >  0.059]"
     ]
    },
    {
     "name": "stdout",
     "output_type": "stream",
     "text": [
      "2022-10-10 12:11:02,999 - root - INFO - 140000 Iterations: Performing update (Visualization, outputting samples, etc.).\n"
     ]
    },
    {
     "name": "stderr",
     "output_type": "stream",
     "text": [
      "\n",
      "1774it [00:10, 169.86it/s, +50 | bound: 1696 | nc: 1 | ncall: 149949 | eff(%):  1.216 | loglstar:   -inf < -835.031 <    inf | logz: -867.319 +/-  1.077 | dlogz:  0.001 >  0.059]"
     ]
    },
    {
     "name": "stdout",
     "output_type": "stream",
     "text": [
      "2022-10-10 12:11:13,860 - root - INFO - 145000 Iterations: Performing update (Visualization, outputting samples, etc.).\n"
     ]
    },
    {
     "name": "stderr",
     "output_type": "stream",
     "text": [
      "\n",
      "1774it [00:00, 868732.67it/s, +50 | bound: 1696 | nc: 1 | ncall: 149949 | eff(%):  1.216 | loglstar:   -inf < -835.031 <    inf | logz: -867.319 +/-  1.077 | dlogz:  0.001 >  0.059]"
     ]
    },
    {
     "name": "stdout",
     "output_type": "stream",
     "text": [
      "2022-10-10 12:11:14,375 - root - INFO - 150000 Iterations: Performing update (Visualization, outputting samples, etc.).\n"
     ]
    },
    {
     "name": "stderr",
     "output_type": "stream",
     "text": [
      "\n"
     ]
    },
    {
     "name": "stdout",
     "output_type": "stream",
     "text": [
      "2022-10-10 12:11:14,654 - root - INFO - 155000 Iterations: Performing update (Visualization, outputting samples, etc.).\n"
     ]
    },
    {
     "name": "stderr",
     "output_type": "stream",
     "text": [
      "/Users/richardhayes/anaconda3/envs/warm_pixels/lib/python3.8/site-packages/dynesty/plotting.py:245: UserWarning: Attempting to set identical bottom == top == 0.0 results in singular transformations; automatically expanding.\n",
      "  axes[i].set_ylim([ymin, ymax])\n"
     ]
    },
    {
     "name": "stdout",
     "output_type": "stream",
     "text": [
      "2022-10-10 12:11:21,631 - root - INFO - Removing zip file\n"
     ]
    }
   ],
   "source": [
    "\"\"\"\n",
    "We make our optimiser which we can configure\n",
    "\"\"\"\n",
    "\n",
    "dynesty = af.DynestyStatic()\n",
    "\n",
    "\"\"\"\n",
    "Optimisation is performed by passing the model and the analysis to the fit function\n",
    "\"\"\"\n",
    "\n",
    "result = dynesty.fit(\n",
    "    model=None,\n",
    "    analysis=analysis,\n",
    ")"
   ],
   "metadata": {
    "collapsed": false,
    "pycharm": {
     "name": "#%%\n"
    }
   }
  },
  {
   "cell_type": "code",
   "execution_count": 26,
   "outputs": [
    {
     "name": "stdout",
     "output_type": "stream",
     "text": [
      "(2453963.758414352, 2453989.7788078706, 2457849.1443402776, 2458030.3502430557, 2459039.171909722)\n",
      "(0.32813893232514, 3.59283882619494, 2.07279744521193, 9.9967631127531, 9.99738752499733)\n"
     ]
    },
    {
     "data": {
      "text/plain": "[<matplotlib.lines.Line2D at 0x7ffdb93f2070>]"
     },
     "execution_count": 26,
     "metadata": {},
     "output_type": "execute_result"
    },
    {
     "data": {
      "text/plain": "<Figure size 648x648 with 1 Axes>",
      "image/png": "[encoded data removed]"
     },
     "metadata": {
      "needs_background": "light"
     },
     "output_type": "display_data"
    }
   ],
   "source": [
    "from matplotlib import pyplot as plt\n",
    "\n",
    "\"\"\"\n",
    "There are 10 instances in results which is one for every pixel line.\n",
    "\n",
    "The beta value for each instance is the same whilst the rho_q is only\n",
    "the same for instances with the same date.\n",
    "\"\"\"\n",
    "for instance in result.instance:\n",
    "    print(f\"rho_q = {instance.rho_q}\")\n",
    "    print(f\"beta = {instance.beta}\")\n",
    "\n",
    "\"\"\"\n",
    "Let's plot this to see what happens over time.\n",
    "\"\"\"\n",
    "date_rho_dict = {\n",
    "    analysis.pixel_line.date: instance.rho_q\n",
    "    for instance, analysis\n",
    "    in zip(result.instance, analyses)\n",
    "}\n",
    "\n",
    "dates, rho_qs = zip(*sorted(date_rho_dict.items(), key=lambda t: t[0]))\n",
    "\n",
    "plt.plot(dates, rho_qs)"
   ],
   "metadata": {
    "collapsed": false,
    "pycharm": {
     "name": "#%%\n"
    }
   }
  }
 ],
 "metadata": {
  "kernelspec": {
   "display_name": "Python 3",
   "language": "python",
   "name": "python3"
  },
  "language_info": {
   "codemirror_mode": {
    "name": "ipython",
    "version": 2
   },
   "file_extension": ".py",
   "mimetype": "text/x-python",
   "name": "python",
   "nbconvert_exporter": "python",
   "pygments_lexer": "ipython2",
   "version": "2.7.6"
  }
 },
 "nbformat": 4,
 "nbformat_minor": 0
}