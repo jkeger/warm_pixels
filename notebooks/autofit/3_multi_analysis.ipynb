{
 "cells": [
  {
   "cell_type": "code",
   "execution_count": 2,
   "metadata": {
    "collapsed": true
   },
   "outputs": [
    {
     "name": "stdout",
     "output_type": "stream",
     "text": [
      "{2457849.1443402776: 2, 2459039.171909722: 2, 2458030.3502430557: 1, 2453963.758414352: 4, 2453989.7788078706: 1}\n"
     ]
    }
   ],
   "source": [
    "import json\n",
    "import os\n",
    "from collections import defaultdict\n",
    "from pathlib import Path\n",
    "\n",
    "data_directory = Path(os.path.abspath(\"\")) / \"data\"\n",
    "\n",
    "with open(data_directory / \"stacked_lines.json\") as f:\n",
    "    stacked_lines = json.load(f)\n",
    "\n",
    "date_groups = defaultdict(list)\n",
    "\n",
    "for stacked_line in stacked_lines:\n",
    "    date_groups[stacked_line['date']].append(stacked_line)\n",
    "\n",
    "print({\n",
    "    date: len(lines)\n",
    "    for date, lines\n",
    "    in date_groups.items()\n",
    "})"
   ]
  },
  {
   "cell_type": "code",
   "execution_count": null,
   "outputs": [],
   "source": [
    "from warm_pixels.fit.analysis import Analysis\n",
    "from warm_pixels.fit.model import TrailModel\n",
    "from warm_pixels import hst_utilities as ut\n",
    "import autofit as af\n",
    "\n",
    "# CCD\n",
    "w = 84700.0\n",
    "# Trap species\n",
    "a = 0.17\n",
    "b = 0.45\n",
    "c = 0.38\n",
    "\n",
    "analyses = []\n",
    "\n",
    "beta = af.GaussianPrior(\n",
    "    mean=0.478,\n",
    "    sigma=0.1,\n",
    ")\n",
    "\n",
    "for date, pixel_lines in date_groups.items():\n",
    "    # Trap lifetimes before or after the temperature change\n",
    "    if date < ut.date_T_change:\n",
    "        tau_a = 0.48\n",
    "        tau_b = 4.86\n",
    "        tau_c = 20.6\n",
    "    else:\n",
    "        tau_a = 0.74\n",
    "        tau_b = 7.70\n",
    "        tau_c = 37.0\n",
    "\n",
    "    rho_q = af.UniformPrior(\n",
    "        lower_limit=0.0,\n",
    "        upper_limit=10.0,\n",
    "    )\n",
    "\n",
    "    model = af.Model(\n",
    "        TrailModel,\n",
    "        rho_q=rho_q,\n",
    "        beta=beta,\n",
    "        w=w,\n",
    "        a=a,\n",
    "        b=b,\n",
    "        c=c,\n",
    "        tau_a=tau_a,\n",
    "        tau_b=tau_b,\n",
    "        tau_c=tau_c,\n",
    "    )\n",
    "    model.add_assertion(c > 0.0)\n",
    "\n",
    "    for pixel_line in pixel_lines:\n",
    "        analysis = Analysis(\n",
    "            pixel_line=pixel_line,\n",
    "        ).with_model(model)\n",
    "        analyses.append(analysis)\n",
    "\n",
    "analysis = sum(analyses)"
   ],
   "metadata": {
    "collapsed": false,
    "pycharm": {
     "name": "#%%\n"
    }
   }
  },
  {
   "cell_type": "code",
   "execution_count": null,
   "outputs": [],
   "source": [
    "\"\"\"\n",
    "We make our optimiser which we can configure\n",
    "\"\"\"\n",
    "\n",
    "dynesty = af.DynestyStatic()\n",
    "\n",
    "\"\"\"\n",
    "Optimisation is performed by passing the model and the analysis to the fit function\n",
    "\"\"\"\n",
    "\n",
    "result = dynesty.fit(\n",
    "    model=None,\n",
    "    analysis=analysis,\n",
    ")"
   ],
   "metadata": {
    "collapsed": false,
    "pycharm": {
     "name": "#%%\n"
    }
   }
  }
 ],
 "metadata": {
  "kernelspec": {
   "display_name": "Python 3",
   "language": "python",
   "name": "python3"
  },
  "language_info": {
   "codemirror_mode": {
    "name": "ipython",
    "version": 2
   },
   "file_extension": ".py",
   "mimetype": "text/x-python",
   "name": "python",
   "nbconvert_exporter": "python",
   "pygments_lexer": "ipython2",
   "version": "2.7.6"
  }
 },
 "nbformat": 4,
 "nbformat_minor": 0
}