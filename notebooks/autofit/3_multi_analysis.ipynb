{
 "cells": [
  {
   "cell_type": "code",
   "execution_count": 5,
   "metadata": {
    "collapsed": true
   },
   "outputs": [
    {
     "name": "stdout",
     "output_type": "stream",
     "text": [
      "{2457849.1443402776: 2, 2459039.171909722: 2, 2458030.3502430557: 1, 2453963.758414352: 4, 2453989.7788078706: 1}\n"
     ]
    }
   ],
   "source": [
    "import json\n",
    "import os\n",
    "from collections import defaultdict\n",
    "from pathlib import Path\n",
    "\n",
    "data_directory = Path(os.path.abspath(\"\")) / \"data\"\n",
    "\n",
    "with open(data_directory / \"stacked_lines.json\") as f:\n",
    "    stacked_lines = json.load(f)\n",
    "\n",
    "date_groups = defaultdict(list)\n",
    "\n",
    "for stacked_line in stacked_lines:\n",
    "    date_groups[stacked_line['date']].append(stacked_line)\n",
    "\n",
    "print({\n",
    "    date: len(lines)\n",
    "    for date, lines\n",
    "    in date_groups.items()\n",
    "})"
   ]
  },
  {
   "cell_type": "code",
   "execution_count": 6,
   "outputs": [],
   "source": [
    "from warm_pixels.fit.analysis import Analysis\n",
    "from warm_pixels.fit.model import TrailModel\n",
    "from warm_pixels import hst_utilities as ut, PixelLine\n",
    "import autofit as af\n",
    "\n",
    "# CCD\n",
    "w = 84700.0\n",
    "# Trap species\n",
    "a = 0.17\n",
    "b = 0.45\n",
    "c = 0.38\n",
    "\n",
    "analyses = []\n",
    "\n",
    "beta = af.GaussianPrior(\n",
    "    mean=0.478,\n",
    "    sigma=0.1,\n",
    ")\n",
    "\n",
    "for date, pixel_lines in date_groups.items():\n",
    "    # Trap lifetimes before or after the temperature change\n",
    "    if date < ut.date_T_change:\n",
    "        tau_a = 0.48\n",
    "        tau_b = 4.86\n",
    "        tau_c = 20.6\n",
    "    else:\n",
    "        tau_a = 0.74\n",
    "        tau_b = 7.70\n",
    "        tau_c = 37.0\n",
    "\n",
    "    rho_q = af.UniformPrior(\n",
    "        lower_limit=0.0,\n",
    "        upper_limit=10.0,\n",
    "    )\n",
    "\n",
    "    model = af.Model(\n",
    "        TrailModel,\n",
    "        rho_q=rho_q,\n",
    "        beta=beta,\n",
    "        w=w,\n",
    "        a=a,\n",
    "        b=b,\n",
    "        c=c,\n",
    "        tau_a=tau_a,\n",
    "        tau_b=tau_b,\n",
    "        tau_c=tau_c,\n",
    "    )\n",
    "    model.add_assertion(c > 0.0)\n",
    "\n",
    "    for pixel_line in pixel_lines:\n",
    "        analysis = Analysis(\n",
    "            pixel_line=PixelLine.from_dict(pixel_line),\n",
    "        ).with_model(model)\n",
    "        analyses.append(analysis)\n",
    "\n",
    "analysis = sum(analyses)"
   ],
   "metadata": {
    "collapsed": false,
    "pycharm": {
     "name": "#%%\n"
    }
   }
  },
  {
   "cell_type": "code",
   "execution_count": 7,
   "outputs": [
    {
     "name": "stdout",
     "output_type": "stream",
     "text": [
      "2022-10-10 10:54:38,691 - autofit.non_linear.abstract_search - INFO - Creating search\n"
     ]
    },
    {
     "ename": "AttributeError",
     "evalue": "'NoneType' object has no attribute 'prior_count'",
     "output_type": "error",
     "traceback": [
      "\u001B[0;31m---------------------------------------------------------------------------\u001B[0m",
      "\u001B[0;31mAttributeError\u001B[0m                            Traceback (most recent call last)",
      "Input \u001B[0;32mIn [7]\u001B[0m, in \u001B[0;36m<cell line: 11>\u001B[0;34m()\u001B[0m\n\u001B[1;32m      5\u001B[0m dynesty \u001B[38;5;241m=\u001B[39m af\u001B[38;5;241m.\u001B[39mDynestyStatic()\n\u001B[1;32m      7\u001B[0m \u001B[38;5;124;03m\"\"\"\u001B[39;00m\n\u001B[1;32m      8\u001B[0m \u001B[38;5;124;03mOptimisation is performed by passing the model and the analysis to the fit function\u001B[39;00m\n\u001B[1;32m      9\u001B[0m \u001B[38;5;124;03m\"\"\"\u001B[39;00m\n\u001B[0;32m---> 11\u001B[0m result \u001B[38;5;241m=\u001B[39m \u001B[43mdynesty\u001B[49m\u001B[38;5;241;43m.\u001B[39;49m\u001B[43mfit\u001B[49m\u001B[43m(\u001B[49m\n\u001B[1;32m     12\u001B[0m \u001B[43m    \u001B[49m\u001B[43mmodel\u001B[49m\u001B[38;5;241;43m=\u001B[39;49m\u001B[38;5;28;43;01mNone\u001B[39;49;00m\u001B[43m,\u001B[49m\n\u001B[1;32m     13\u001B[0m \u001B[43m    \u001B[49m\u001B[43manalysis\u001B[49m\u001B[38;5;241;43m=\u001B[39;49m\u001B[43manalysis\u001B[49m\u001B[43m,\u001B[49m\n\u001B[1;32m     14\u001B[0m \u001B[43m)\u001B[49m\n\u001B[1;32m     16\u001B[0m \u001B[38;5;28mprint\u001B[39m(\u001B[38;5;28mtype\u001B[39m(result))\n\u001B[1;32m     17\u001B[0m \u001B[38;5;28mprint\u001B[39m(result)\n",
      "File \u001B[0;32m~/autolens/fit/autofit/non_linear/abstract_search.py:470\u001B[0m, in \u001B[0;36mNonLinearSearch.fit\u001B[0;34m(self, model, analysis, info, pickle_files, log_likelihood_cap)\u001B[0m\n\u001B[1;32m    426\u001B[0m \u001B[38;5;28;01mdef\u001B[39;00m \u001B[38;5;21mfit\u001B[39m(\n\u001B[1;32m    427\u001B[0m         \u001B[38;5;28mself\u001B[39m,\n\u001B[1;32m    428\u001B[0m         model,\n\u001B[0;32m   (...)\u001B[0m\n\u001B[1;32m    432\u001B[0m         log_likelihood_cap\u001B[38;5;241m=\u001B[39m\u001B[38;5;28;01mNone\u001B[39;00m\n\u001B[1;32m    433\u001B[0m ) \u001B[38;5;241m-\u001B[39m\u001B[38;5;241m>\u001B[39m Union[\u001B[38;5;124m\"\u001B[39m\u001B[38;5;124mResult\u001B[39m\u001B[38;5;124m\"\u001B[39m, List[\u001B[38;5;124m\"\u001B[39m\u001B[38;5;124mResult\u001B[39m\u001B[38;5;124m\"\u001B[39m]]:\n\u001B[1;32m    434\u001B[0m     \u001B[38;5;124;03m\"\"\"\u001B[39;00m\n\u001B[1;32m    435\u001B[0m \u001B[38;5;124;03m    Fit a model, M with some function f that takes instances of the\u001B[39;00m\n\u001B[1;32m    436\u001B[0m \u001B[38;5;124;03m    class represented by model M and gives a score for their fitness.\u001B[39;00m\n\u001B[0;32m   (...)\u001B[0m\n\u001B[1;32m    468\u001B[0m \u001B[38;5;124;03m        If the model has 0 dimensions.\u001B[39;00m\n\u001B[1;32m    469\u001B[0m \u001B[38;5;124;03m    \"\"\"\u001B[39;00m\n\u001B[0;32m--> 470\u001B[0m     \u001B[38;5;28;43mself\u001B[39;49m\u001B[38;5;241;43m.\u001B[39;49m\u001B[43mcheck_model\u001B[49m\u001B[43m(\u001B[49m\u001B[43mmodel\u001B[49m\u001B[38;5;241;43m=\u001B[39;49m\u001B[43mmodel\u001B[49m\u001B[43m)\u001B[49m\n\u001B[1;32m    472\u001B[0m     \u001B[38;5;28mself\u001B[39m\u001B[38;5;241m.\u001B[39mlogger\u001B[38;5;241m.\u001B[39minfo(\n\u001B[1;32m    473\u001B[0m         \u001B[38;5;124m\"\u001B[39m\u001B[38;5;124mStarting search\u001B[39m\u001B[38;5;124m\"\u001B[39m\n\u001B[1;32m    474\u001B[0m     )\n\u001B[1;32m    476\u001B[0m     model \u001B[38;5;241m=\u001B[39m analysis\u001B[38;5;241m.\u001B[39mmodify_model(model)\n",
      "File \u001B[0;32m~/autolens/fit/autofit/non_linear/abstract_search.py:567\u001B[0m, in \u001B[0;36mNonLinearSearch.check_model\u001B[0;34m(self, model)\u001B[0m\n\u001B[1;32m    566\u001B[0m \u001B[38;5;28;01mdef\u001B[39;00m \u001B[38;5;21mcheck_model\u001B[39m(\u001B[38;5;28mself\u001B[39m, model):\n\u001B[0;32m--> 567\u001B[0m     \u001B[38;5;28;01mif\u001B[39;00m \u001B[43mmodel\u001B[49m\u001B[38;5;241;43m.\u001B[39;49m\u001B[43mprior_count\u001B[49m \u001B[38;5;241m==\u001B[39m \u001B[38;5;241m0\u001B[39m:\n\u001B[1;32m    568\u001B[0m         \u001B[38;5;28;01mraise\u001B[39;00m \u001B[38;5;167;01mAssertionError\u001B[39;00m(\n\u001B[1;32m    569\u001B[0m             \u001B[38;5;124m\"\u001B[39m\u001B[38;5;124mModel has no priors! Cannot fit a 0 dimension model.\u001B[39m\u001B[38;5;124m\"\u001B[39m\n\u001B[1;32m    570\u001B[0m         )\n",
      "\u001B[0;31mAttributeError\u001B[0m: 'NoneType' object has no attribute 'prior_count'"
     ]
    }
   ],
   "source": [
    "\"\"\"\n",
    "We make our optimiser which we can configure\n",
    "\"\"\"\n",
    "\n",
    "dynesty = af.DynestyStatic()\n",
    "\n",
    "\"\"\"\n",
    "Optimisation is performed by passing the model and the analysis to the fit function\n",
    "\"\"\"\n",
    "\n",
    "result = dynesty.fit(\n",
    "    model=None,\n",
    "    analysis=analysis,\n",
    ")\n",
    "\n",
    "print(type(result))\n",
    "print(result)\n",
    "print(result.model.rho_q)"
   ],
   "metadata": {
    "collapsed": false,
    "pycharm": {
     "name": "#%%\n"
    }
   }
  }
 ],
 "metadata": {
  "kernelspec": {
   "display_name": "Python 3",
   "language": "python",
   "name": "python3"
  },
  "language_info": {
   "codemirror_mode": {
    "name": "ipython",
    "version": 2
   },
   "file_extension": ".py",
   "mimetype": "text/x-python",
   "name": "python",
   "nbconvert_exporter": "python",
   "pygments_lexer": "ipython2",
   "version": "2.7.6"
  }
 },
 "nbformat": 4,
 "nbformat_minor": 0
}