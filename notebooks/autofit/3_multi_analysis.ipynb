{
 "cells": [
  {
   "cell_type": "code",
   "execution_count": 27,
   "metadata": {
    "collapsed": true
   },
   "outputs": [
    {
     "name": "stdout",
     "output_type": "stream",
     "text": [
      "{2453963.758414352: 50, 2453989.7788078706: 50, 2457849.1443402776: 50, 2458030.3502430557: 41, 2459039.171909722: 50}\n"
     ]
    }
   ],
   "source": [
    "import json\n",
    "import os\n",
    "from collections import defaultdict\n",
    "from pathlib import Path\n",
    "\n",
    "data_directory = Path(os.path.abspath(\"\")) / \"data\"\n",
    "\n",
    "\"\"\"\n",
    "./hst_warm_pixels.py ../hst_acs_datasets --output stacked-lines\n",
    "\"\"\"\n",
    "with open(data_directory / \"stacked_lines.json\") as f:\n",
    "    stacked_lines = json.load(f)\n",
    "\n",
    "date_groups = defaultdict(list)\n",
    "\n",
    "for stacked_line in stacked_lines:\n",
    "    date_groups[stacked_line['date']].append(stacked_line)\n",
    "\n",
    "print({\n",
    "    date: len(lines)\n",
    "    for date, lines\n",
    "    in date_groups.items()\n",
    "})"
   ]
  },
  {
   "cell_type": "code",
   "execution_count": 28,
   "outputs": [],
   "source": [
    "from warm_pixels.fit.analysis import Analysis\n",
    "from warm_pixels.fit.model import TrailModel\n",
    "from warm_pixels import hst_utilities as ut, PixelLine\n",
    "import autofit as af\n",
    "\n",
    "\"\"\"\n",
    "We define global parameters which are true for any image captured\n",
    "\"\"\"\n",
    "# CCD\n",
    "w = 84700.0\n",
    "# Trap species\n",
    "a = 0.17\n",
    "b = 0.45\n",
    "c = 0.38\n",
    "\n",
    "\"\"\"\n",
    "The global beta is allowed to vary\n",
    "\"\"\"\n",
    "beta = af.GaussianPrior(\n",
    "    mean=0.478,\n",
    "    sigma=0.1,\n",
    ")\n",
    "\n",
    "analyses = []\n",
    "\n",
    "\"\"\"\n",
    "For each date we'll need a different model\n",
    "\"\"\"\n",
    "for date, pixel_lines in date_groups.items():\n",
    "\n",
    "    \"\"\"\n",
    "    First we set constant values for the trap lifetimes. These could also\n",
    "    be allowed to vary\n",
    "    \"\"\"\n",
    "    # Trap lifetimes before or after the temperature change\n",
    "    if date < ut.date_T_change:\n",
    "        tau_a = 0.48\n",
    "        tau_b = 4.86\n",
    "        tau_c = 20.6\n",
    "    else:\n",
    "        tau_a = 0.74\n",
    "        tau_b = 7.70\n",
    "        tau_c = 37.0\n",
    "\n",
    "    \"\"\"\n",
    "    For each date we have a variable rho_q\n",
    "    \"\"\"\n",
    "    rho_q = af.UniformPrior(\n",
    "        lower_limit=0.0,\n",
    "        upper_limit=10.0,\n",
    "    )\n",
    "\n",
    "    \"\"\"\n",
    "    Each date has its own model. Note that the beta prior is shared\n",
    "    by every model, whilst each model has its own rho_q\n",
    "    \"\"\"\n",
    "    model = af.Model(\n",
    "        TrailModel,\n",
    "        rho_q=rho_q,\n",
    "        beta=beta,\n",
    "        w=w,\n",
    "        a=a,\n",
    "        b=b,\n",
    "        c=c,\n",
    "        tau_a=tau_a,\n",
    "        tau_b=tau_b,\n",
    "        tau_c=tau_c,\n",
    "    )\n",
    "\n",
    "    \"\"\"\n",
    "    For each pixel line we need a unique analysis. Each of these analyses\n",
    "    is combined with the model for the date on which the pixel line was\n",
    "    captured.\n",
    "    \"\"\"\n",
    "    for pixel_line in pixel_lines:\n",
    "        analysis = Analysis(\n",
    "            pixel_line=PixelLine.from_dict(pixel_line),\n",
    "        ).with_model(model)\n",
    "        analyses.append(analysis)\n",
    "\n",
    "\"\"\"\n",
    "Finally we create our overall analysis by summing the other analyses together.\n",
    "\"\"\"\n",
    "analysis = sum(analyses)"
   ],
   "metadata": {
    "collapsed": false,
    "pycharm": {
     "name": "#%%\n"
    }
   }
  },
  {
   "cell_type": "code",
   "execution_count": 29,
   "outputs": [
    {
     "name": "stdout",
     "output_type": "stream",
     "text": [
      "2022-10-10 14:11:11,754 - autofit.non_linear.abstract_search - INFO - Creating search\n",
      "2022-10-10 14:11:11,756 - root - INFO - Starting search\n",
      "2022-10-10 14:11:11,776 - root - INFO - Saving path info\n",
      "2022-10-10 14:11:11,777 - root - INFO - Not complete. Starting non-linear search.\n",
      "2022-10-10 14:11:11,780 - autofit.non_linear.initializer - INFO - Generating initial samples of model, which are subject to prior limits and other constraints.\n",
      "2022-10-10 14:11:14,121 - root - INFO - No Dynesty samples found, beginning new non-linear search. \n"
     ]
    },
    {
     "name": "stderr",
     "output_type": "stream",
     "text": [
      "294it [04:00,  1.22it/s, +50 | bound: 34 | nc: 1 | ncall: 5074 | eff(%):  6.780 | loglstar:   -inf < -79440.352 <    inf | logz: -79450.799 +/-  0.643 | dlogz:  1.099 >  0.059]  "
     ]
    },
    {
     "name": "stdout",
     "output_type": "stream",
     "text": [
      "2022-10-10 14:15:14,362 - root - INFO - 5000 Iterations: Performing update (Visualization, outputting samples, etc.).\n"
     ]
    },
    {
     "name": "stderr",
     "output_type": "stream",
     "text": [
      "\n",
      "365it [04:04,  1.49it/s, +50 | bound: 92 | nc: 1 | ncall: 10314 | eff(%):  4.024 | loglstar:   -inf < -73292.654 <    inf | logz: -73304.507 +/-  0.685 | dlogz:  1.099 >  0.059] "
     ]
    },
    {
     "name": "stdout",
     "output_type": "stream",
     "text": [
      "2022-10-10 14:19:18,708 - root - INFO - 10000 Iterations: Performing update (Visualization, outputting samples, etc.).\n"
     ]
    },
    {
     "name": "stderr",
     "output_type": "stream",
     "text": [
      "\n",
      "452it [04:24,  1.71it/s, +50 | bound: 146 | nc: 1 | ncall: 15321 | eff(%):  3.277 | loglstar:   -inf < -52975.249 <    inf | logz: -52988.825 +/-  0.735 | dlogz:  1.099 >  0.059] "
     ]
    },
    {
     "name": "stdout",
     "output_type": "stream",
     "text": [
      "2022-10-10 14:23:43,255 - root - INFO - 15000 Iterations: Performing update (Visualization, outputting samples, etc.).\n"
     ]
    },
    {
     "name": "stderr",
     "output_type": "stream",
     "text": [
      "\n",
      "550it [03:51,  2.37it/s, +50 | bound: 198 | nc: 1 | ncall: 20421 | eff(%):  2.938 | loglstar:   -inf < -43575.050 <    inf | logz: -43590.566 +/-  0.784 | dlogz:  1.099 >  0.059]"
     ]
    },
    {
     "name": "stdout",
     "output_type": "stream",
     "text": [
      "2022-10-10 14:27:35,289 - root - INFO - 20000 Iterations: Performing update (Visualization, outputting samples, etc.).\n"
     ]
    },
    {
     "name": "stderr",
     "output_type": "stream",
     "text": [
      "\n",
      "630it [04:03,  2.59it/s, +50 | bound: 254 | nc: 1 | ncall: 25554 | eff(%):  2.661 | loglstar:   -inf < -43575.050 <    inf | logz: -43592.150 +/-  0.824 | dlogz:  1.099 >  0.059]"
     ]
    },
    {
     "name": "stdout",
     "output_type": "stream",
     "text": [
      "2022-10-10 14:31:38,966 - root - INFO - 25000 Iterations: Performing update (Visualization, outputting samples, etc.).\n"
     ]
    },
    {
     "name": "stderr",
     "output_type": "stream",
     "text": [
      "\n",
      "734it [03:50,  3.19it/s, +50 | bound: 306 | nc: 1 | ncall: 30625 | eff(%):  2.560 | loglstar:   -inf < -42729.556 <    inf | logz: -42748.716 +/-  0.871 | dlogz:  1.099 >  0.059]"
     ]
    },
    {
     "name": "stdout",
     "output_type": "stream",
     "text": [
      "2022-10-10 14:35:29,510 - root - INFO - 30000 Iterations: Performing update (Visualization, outputting samples, etc.).\n"
     ]
    },
    {
     "name": "stderr",
     "output_type": "stream",
     "text": [
      "\n",
      "815it [03:59,  3.40it/s, +50 | bound: 362 | nc: 1 | ncall: 35635 | eff(%):  2.427 | loglstar:   -inf < -41641.379 <    inf | logz: -41662.143 +/-  0.907 | dlogz:  1.099 >  0.059]"
     ]
    },
    {
     "name": "stdout",
     "output_type": "stream",
     "text": [
      "2022-10-10 14:39:29,232 - root - INFO - 35000 Iterations: Performing update (Visualization, outputting samples, etc.).\n"
     ]
    },
    {
     "name": "stderr",
     "output_type": "stream",
     "text": [
      "\n",
      "969it [03:53,  4.15it/s, +50 | bound: 417 | nc: 1 | ncall: 40638 | eff(%):  2.508 | loglstar:   -inf < -40217.555 <    inf | logz: -40241.368 +/-  0.983 | dlogz:  1.099 >  0.059]"
     ]
    },
    {
     "name": "stdout",
     "output_type": "stream",
     "text": [
      "2022-10-10 14:43:23,077 - root - INFO - 40000 Iterations: Performing update (Visualization, outputting samples, etc.).\n"
     ]
    },
    {
     "name": "stderr",
     "output_type": "stream",
     "text": [
      "\n",
      "1088it [04:23,  4.13it/s, +50 | bound: 469 | nc: 1 | ncall: 45706 | eff(%):  2.490 | loglstar:   -inf < -40217.555 <    inf | logz: -40243.725 +/-  1.101 | dlogz:  1.099 >  0.059]"
     ]
    },
    {
     "name": "stdout",
     "output_type": "stream",
     "text": [
      "2022-10-10 14:47:46,562 - root - INFO - 45000 Iterations: Performing update (Visualization, outputting samples, etc.).\n"
     ]
    },
    {
     "name": "stderr",
     "output_type": "stream",
     "text": [
      "\n",
      "1252it [04:09,  5.02it/s, +50 | bound: 524 | nc: 1 | ncall: 50773 | eff(%):  2.564 | loglstar:   -inf < -40163.904 <    inf | logz: -40193.322 +/-  1.201 | dlogz:  1.099 >  0.059]"
     ]
    },
    {
     "name": "stdout",
     "output_type": "stream",
     "text": [
      "2022-10-10 14:51:56,123 - root - INFO - 50000 Iterations: Performing update (Visualization, outputting samples, etc.).\n"
     ]
    },
    {
     "name": "stderr",
     "output_type": "stream",
     "text": [
      "\n",
      "1481it [03:40,  6.72it/s, +50 | bound: 577 | nc: 1 | ncall: 55774 | eff(%):  2.745 | loglstar:   -inf < -40106.182 <    inf | logz: -40140.134 +/-  1.662 | dlogz:  1.098 >  0.059]"
     ]
    },
    {
     "name": "stdout",
     "output_type": "stream",
     "text": [
      "2022-10-10 14:55:36,677 - root - INFO - 55000 Iterations: Performing update (Visualization, outputting samples, etc.).\n"
     ]
    },
    {
     "name": "stderr",
     "output_type": "stream",
     "text": [
      "\n",
      "1707it [03:46,  7.55it/s, +50 | bound: 631 | nc: 1 | ncall: 60818 | eff(%):  2.889 | loglstar:   -inf < -40106.114 <    inf | logz: -40142.995 +/-  1.501 | dlogz:  0.354 >  0.059]"
     ]
    },
    {
     "name": "stdout",
     "output_type": "stream",
     "text": [
      "2022-10-10 14:59:23,045 - root - INFO - 60000 Iterations: Performing update (Visualization, outputting samples, etc.).\n"
     ]
    },
    {
     "name": "stderr",
     "output_type": "stream",
     "text": [
      "\n",
      "1961it [03:54,  8.38it/s, +50 | bound: 686 | nc: 1 | ncall: 65832 | eff(%):  3.055 | loglstar:   -inf < -40104.296 <    inf | logz: -40142.798 +/-  1.227 | dlogz:  0.014 >  0.059]"
     ]
    },
    {
     "name": "stdout",
     "output_type": "stream",
     "text": [
      "2022-10-10 15:03:17,902 - root - INFO - 65000 Iterations: Performing update (Visualization, outputting samples, etc.).\n"
     ]
    },
    {
     "name": "stderr",
     "output_type": "stream",
     "text": [
      "\n",
      "2110it [01:33, 22.47it/s, +50 | bound: 710 | nc: 1 | ncall: 67913 | eff(%):  3.181 | loglstar:   -inf < -40103.854 <    inf | logz: -40142.787 +/-  1.198 | dlogz:  0.001 >  0.059]"
     ]
    },
    {
     "name": "stdout",
     "output_type": "stream",
     "text": [
      "2022-10-10 15:04:52,505 - root - INFO - 70000 Iterations: Performing update (Visualization, outputting samples, etc.).\n"
     ]
    },
    {
     "name": "stderr",
     "output_type": "stream",
     "text": [
      "\n",
      "2110it [00:00, 1043506.83it/s, +50 | bound: 710 | nc: 1 | ncall: 67913 | eff(%):  3.181 | loglstar:   -inf < -40103.854 <    inf | logz: -40142.787 +/-  1.198 | dlogz:  0.001 >  0.059]"
     ]
    },
    {
     "name": "stdout",
     "output_type": "stream",
     "text": [
      "2022-10-10 15:04:53,189 - root - INFO - 75000 Iterations: Performing update (Visualization, outputting samples, etc.).\n"
     ]
    },
    {
     "name": "stderr",
     "output_type": "stream",
     "text": [
      "\n"
     ]
    },
    {
     "name": "stdout",
     "output_type": "stream",
     "text": [
      "2022-10-10 15:04:53,778 - root - INFO - 80000 Iterations: Performing update (Visualization, outputting samples, etc.).\n"
     ]
    },
    {
     "name": "stderr",
     "output_type": "stream",
     "text": [
      "/Users/richardhayes/anaconda3/envs/warm_pixels/lib/python3.8/site-packages/dynesty/plotting.py:245: UserWarning: Attempting to set identical bottom == top == 0.0 results in singular transformations; automatically expanding.\n",
      "  axes[i].set_ylim([ymin, ymax])\n"
     ]
    },
    {
     "name": "stdout",
     "output_type": "stream",
     "text": [
      "2022-10-10 15:05:56,439 - root - INFO - Removing zip file\n"
     ]
    }
   ],
   "source": [
    "\"\"\"\n",
    "We make our optimiser which we can configure\n",
    "\"\"\"\n",
    "\n",
    "dynesty = af.DynestyStatic()\n",
    "\n",
    "\"\"\"\n",
    "Optimisation is performed by passing the model and the analysis to the fit function\n",
    "\"\"\"\n",
    "\n",
    "result = dynesty.fit(\n",
    "    model=None,\n",
    "    analysis=analysis,\n",
    ")"
   ],
   "metadata": {
    "collapsed": false,
    "pycharm": {
     "name": "#%%\n"
    }
   }
  },
  {
   "cell_type": "code",
   "execution_count": 30,
   "outputs": [
    {
     "name": "stdout",
     "output_type": "stream",
     "text": [
      "rho_q = 0.68376767417831\n",
      "beta = 0.46954010110948574\n",
      "rho_q = 0.68376767417831\n",
      "beta = 0.46954010110948574\n",
      "rho_q = 0.68376767417831\n",
      "beta = 0.46954010110948574\n",
      "rho_q = 0.68376767417831\n",
      "beta = 0.46954010110948574\n",
      "rho_q = 0.68376767417831\n",
      "beta = 0.46954010110948574\n",
      "rho_q = 0.68376767417831\n",
      "beta = 0.46954010110948574\n",
      "rho_q = 0.68376767417831\n",
      "beta = 0.46954010110948574\n",
      "rho_q = 0.68376767417831\n",
      "beta = 0.46954010110948574\n",
      "rho_q = 0.68376767417831\n",
      "beta = 0.46954010110948574\n",
      "rho_q = 0.68376767417831\n",
      "beta = 0.46954010110948574\n",
      "rho_q = 0.68376767417831\n",
      "beta = 0.46954010110948574\n",
      "rho_q = 0.68376767417831\n",
      "beta = 0.46954010110948574\n",
      "rho_q = 0.68376767417831\n",
      "beta = 0.46954010110948574\n",
      "rho_q = 0.68376767417831\n",
      "beta = 0.46954010110948574\n",
      "rho_q = 0.68376767417831\n",
      "beta = 0.46954010110948574\n",
      "rho_q = 0.68376767417831\n",
      "beta = 0.46954010110948574\n",
      "rho_q = 0.68376767417831\n",
      "beta = 0.46954010110948574\n",
      "rho_q = 0.68376767417831\n",
      "beta = 0.46954010110948574\n",
      "rho_q = 0.68376767417831\n",
      "beta = 0.46954010110948574\n",
      "rho_q = 0.68376767417831\n",
      "beta = 0.46954010110948574\n",
      "rho_q = 0.68376767417831\n",
      "beta = 0.46954010110948574\n",
      "rho_q = 0.68376767417831\n",
      "beta = 0.46954010110948574\n",
      "rho_q = 0.68376767417831\n",
      "beta = 0.46954010110948574\n",
      "rho_q = 0.68376767417831\n",
      "beta = 0.46954010110948574\n",
      "rho_q = 0.68376767417831\n",
      "beta = 0.46954010110948574\n",
      "rho_q = 0.68376767417831\n",
      "beta = 0.46954010110948574\n",
      "rho_q = 0.68376767417831\n",
      "beta = 0.46954010110948574\n",
      "rho_q = 0.68376767417831\n",
      "beta = 0.46954010110948574\n",
      "rho_q = 0.68376767417831\n",
      "beta = 0.46954010110948574\n",
      "rho_q = 0.68376767417831\n",
      "beta = 0.46954010110948574\n",
      "rho_q = 0.68376767417831\n",
      "beta = 0.46954010110948574\n",
      "rho_q = 0.68376767417831\n",
      "beta = 0.46954010110948574\n",
      "rho_q = 0.68376767417831\n",
      "beta = 0.46954010110948574\n",
      "rho_q = 0.68376767417831\n",
      "beta = 0.46954010110948574\n",
      "rho_q = 0.68376767417831\n",
      "beta = 0.46954010110948574\n",
      "rho_q = 0.68376767417831\n",
      "beta = 0.46954010110948574\n",
      "rho_q = 0.68376767417831\n",
      "beta = 0.46954010110948574\n",
      "rho_q = 0.68376767417831\n",
      "beta = 0.46954010110948574\n",
      "rho_q = 0.68376767417831\n",
      "beta = 0.46954010110948574\n",
      "rho_q = 0.68376767417831\n",
      "beta = 0.46954010110948574\n",
      "rho_q = 0.68376767417831\n",
      "beta = 0.46954010110948574\n",
      "rho_q = 0.68376767417831\n",
      "beta = 0.46954010110948574\n",
      "rho_q = 0.68376767417831\n",
      "beta = 0.46954010110948574\n",
      "rho_q = 0.68376767417831\n",
      "beta = 0.46954010110948574\n",
      "rho_q = 0.68376767417831\n",
      "beta = 0.46954010110948574\n",
      "rho_q = 0.68376767417831\n",
      "beta = 0.46954010110948574\n",
      "rho_q = 0.68376767417831\n",
      "beta = 0.46954010110948574\n",
      "rho_q = 0.68376767417831\n",
      "beta = 0.46954010110948574\n",
      "rho_q = 0.68376767417831\n",
      "beta = 0.46954010110948574\n",
      "rho_q = 0.68376767417831\n",
      "beta = 0.46954010110948574\n",
      "rho_q = 0.71151086358428\n",
      "beta = 0.46954010110948574\n",
      "rho_q = 0.71151086358428\n",
      "beta = 0.46954010110948574\n",
      "rho_q = 0.71151086358428\n",
      "beta = 0.46954010110948574\n",
      "rho_q = 0.71151086358428\n",
      "beta = 0.46954010110948574\n",
      "rho_q = 0.71151086358428\n",
      "beta = 0.46954010110948574\n",
      "rho_q = 0.71151086358428\n",
      "beta = 0.46954010110948574\n",
      "rho_q = 0.71151086358428\n",
      "beta = 0.46954010110948574\n",
      "rho_q = 0.71151086358428\n",
      "beta = 0.46954010110948574\n",
      "rho_q = 0.71151086358428\n",
      "beta = 0.46954010110948574\n",
      "rho_q = 0.71151086358428\n",
      "beta = 0.46954010110948574\n",
      "rho_q = 0.71151086358428\n",
      "beta = 0.46954010110948574\n",
      "rho_q = 0.71151086358428\n",
      "beta = 0.46954010110948574\n",
      "rho_q = 0.71151086358428\n",
      "beta = 0.46954010110948574\n",
      "rho_q = 0.71151086358428\n",
      "beta = 0.46954010110948574\n",
      "rho_q = 0.71151086358428\n",
      "beta = 0.46954010110948574\n",
      "rho_q = 0.71151086358428\n",
      "beta = 0.46954010110948574\n",
      "rho_q = 0.71151086358428\n",
      "beta = 0.46954010110948574\n",
      "rho_q = 0.71151086358428\n",
      "beta = 0.46954010110948574\n",
      "rho_q = 0.71151086358428\n",
      "beta = 0.46954010110948574\n",
      "rho_q = 0.71151086358428\n",
      "beta = 0.46954010110948574\n",
      "rho_q = 0.71151086358428\n",
      "beta = 0.46954010110948574\n",
      "rho_q = 0.71151086358428\n",
      "beta = 0.46954010110948574\n",
      "rho_q = 0.71151086358428\n",
      "beta = 0.46954010110948574\n",
      "rho_q = 0.71151086358428\n",
      "beta = 0.46954010110948574\n",
      "rho_q = 0.71151086358428\n",
      "beta = 0.46954010110948574\n",
      "rho_q = 0.71151086358428\n",
      "beta = 0.46954010110948574\n",
      "rho_q = 0.71151086358428\n",
      "beta = 0.46954010110948574\n",
      "rho_q = 0.71151086358428\n",
      "beta = 0.46954010110948574\n",
      "rho_q = 0.71151086358428\n",
      "beta = 0.46954010110948574\n",
      "rho_q = 0.71151086358428\n",
      "beta = 0.46954010110948574\n",
      "rho_q = 0.71151086358428\n",
      "beta = 0.46954010110948574\n",
      "rho_q = 0.71151086358428\n",
      "beta = 0.46954010110948574\n",
      "rho_q = 0.71151086358428\n",
      "beta = 0.46954010110948574\n",
      "rho_q = 0.71151086358428\n",
      "beta = 0.46954010110948574\n",
      "rho_q = 0.71151086358428\n",
      "beta = 0.46954010110948574\n",
      "rho_q = 0.71151086358428\n",
      "beta = 0.46954010110948574\n",
      "rho_q = 0.71151086358428\n",
      "beta = 0.46954010110948574\n",
      "rho_q = 0.71151086358428\n",
      "beta = 0.46954010110948574\n",
      "rho_q = 0.71151086358428\n",
      "beta = 0.46954010110948574\n",
      "rho_q = 0.71151086358428\n",
      "beta = 0.46954010110948574\n",
      "rho_q = 0.71151086358428\n",
      "beta = 0.46954010110948574\n",
      "rho_q = 0.71151086358428\n",
      "beta = 0.46954010110948574\n",
      "rho_q = 0.71151086358428\n",
      "beta = 0.46954010110948574\n",
      "rho_q = 0.71151086358428\n",
      "beta = 0.46954010110948574\n",
      "rho_q = 0.71151086358428\n",
      "beta = 0.46954010110948574\n",
      "rho_q = 0.71151086358428\n",
      "beta = 0.46954010110948574\n",
      "rho_q = 0.71151086358428\n",
      "beta = 0.46954010110948574\n",
      "rho_q = 0.71151086358428\n",
      "beta = 0.46954010110948574\n",
      "rho_q = 0.71151086358428\n",
      "beta = 0.46954010110948574\n",
      "rho_q = 0.71151086358428\n",
      "beta = 0.46954010110948574\n",
      "rho_q = 2.77981956973782\n",
      "beta = 0.46954010110948574\n",
      "rho_q = 2.77981956973782\n",
      "beta = 0.46954010110948574\n",
      "rho_q = 2.77981956973782\n",
      "beta = 0.46954010110948574\n",
      "rho_q = 2.77981956973782\n",
      "beta = 0.46954010110948574\n",
      "rho_q = 2.77981956973782\n",
      "beta = 0.46954010110948574\n",
      "rho_q = 2.77981956973782\n",
      "beta = 0.46954010110948574\n",
      "rho_q = 2.77981956973782\n",
      "beta = 0.46954010110948574\n",
      "rho_q = 2.77981956973782\n",
      "beta = 0.46954010110948574\n",
      "rho_q = 2.77981956973782\n",
      "beta = 0.46954010110948574\n",
      "rho_q = 2.77981956973782\n",
      "beta = 0.46954010110948574\n",
      "rho_q = 2.77981956973782\n",
      "beta = 0.46954010110948574\n",
      "rho_q = 2.77981956973782\n",
      "beta = 0.46954010110948574\n",
      "rho_q = 2.77981956973782\n",
      "beta = 0.46954010110948574\n",
      "rho_q = 2.77981956973782\n",
      "beta = 0.46954010110948574\n",
      "rho_q = 2.77981956973782\n",
      "beta = 0.46954010110948574\n",
      "rho_q = 2.77981956973782\n",
      "beta = 0.46954010110948574\n",
      "rho_q = 2.77981956973782\n",
      "beta = 0.46954010110948574\n",
      "rho_q = 2.77981956973782\n",
      "beta = 0.46954010110948574\n",
      "rho_q = 2.77981956973782\n",
      "beta = 0.46954010110948574\n",
      "rho_q = 2.77981956973782\n",
      "beta = 0.46954010110948574\n",
      "rho_q = 2.77981956973782\n",
      "beta = 0.46954010110948574\n",
      "rho_q = 2.77981956973782\n",
      "beta = 0.46954010110948574\n",
      "rho_q = 2.77981956973782\n",
      "beta = 0.46954010110948574\n",
      "rho_q = 2.77981956973782\n",
      "beta = 0.46954010110948574\n",
      "rho_q = 2.77981956973782\n",
      "beta = 0.46954010110948574\n",
      "rho_q = 2.77981956973782\n",
      "beta = 0.46954010110948574\n",
      "rho_q = 2.77981956973782\n",
      "beta = 0.46954010110948574\n",
      "rho_q = 2.77981956973782\n",
      "beta = 0.46954010110948574\n",
      "rho_q = 2.77981956973782\n",
      "beta = 0.46954010110948574\n",
      "rho_q = 2.77981956973782\n",
      "beta = 0.46954010110948574\n",
      "rho_q = 2.77981956973782\n",
      "beta = 0.46954010110948574\n",
      "rho_q = 2.77981956973782\n",
      "beta = 0.46954010110948574\n",
      "rho_q = 2.77981956973782\n",
      "beta = 0.46954010110948574\n",
      "rho_q = 2.77981956973782\n",
      "beta = 0.46954010110948574\n",
      "rho_q = 2.77981956973782\n",
      "beta = 0.46954010110948574\n",
      "rho_q = 2.77981956973782\n",
      "beta = 0.46954010110948574\n",
      "rho_q = 2.77981956973782\n",
      "beta = 0.46954010110948574\n",
      "rho_q = 2.77981956973782\n",
      "beta = 0.46954010110948574\n",
      "rho_q = 2.77981956973782\n",
      "beta = 0.46954010110948574\n",
      "rho_q = 2.77981956973782\n",
      "beta = 0.46954010110948574\n",
      "rho_q = 2.77981956973782\n",
      "beta = 0.46954010110948574\n",
      "rho_q = 2.77981956973782\n",
      "beta = 0.46954010110948574\n",
      "rho_q = 2.77981956973782\n",
      "beta = 0.46954010110948574\n",
      "rho_q = 2.77981956973782\n",
      "beta = 0.46954010110948574\n",
      "rho_q = 2.77981956973782\n",
      "beta = 0.46954010110948574\n",
      "rho_q = 2.77981956973782\n",
      "beta = 0.46954010110948574\n",
      "rho_q = 2.77981956973782\n",
      "beta = 0.46954010110948574\n",
      "rho_q = 2.77981956973782\n",
      "beta = 0.46954010110948574\n",
      "rho_q = 2.77981956973782\n",
      "beta = 0.46954010110948574\n",
      "rho_q = 2.77981956973782\n",
      "beta = 0.46954010110948574\n",
      "rho_q = 2.88075132054619\n",
      "beta = 0.46954010110948574\n",
      "rho_q = 2.88075132054619\n",
      "beta = 0.46954010110948574\n",
      "rho_q = 2.88075132054619\n",
      "beta = 0.46954010110948574\n",
      "rho_q = 2.88075132054619\n",
      "beta = 0.46954010110948574\n",
      "rho_q = 2.88075132054619\n",
      "beta = 0.46954010110948574\n",
      "rho_q = 2.88075132054619\n",
      "beta = 0.46954010110948574\n",
      "rho_q = 2.88075132054619\n",
      "beta = 0.46954010110948574\n",
      "rho_q = 2.88075132054619\n",
      "beta = 0.46954010110948574\n",
      "rho_q = 2.88075132054619\n",
      "beta = 0.46954010110948574\n",
      "rho_q = 2.88075132054619\n",
      "beta = 0.46954010110948574\n",
      "rho_q = 2.88075132054619\n",
      "beta = 0.46954010110948574\n",
      "rho_q = 2.88075132054619\n",
      "beta = 0.46954010110948574\n",
      "rho_q = 2.88075132054619\n",
      "beta = 0.46954010110948574\n",
      "rho_q = 2.88075132054619\n",
      "beta = 0.46954010110948574\n",
      "rho_q = 2.88075132054619\n",
      "beta = 0.46954010110948574\n",
      "rho_q = 2.88075132054619\n",
      "beta = 0.46954010110948574\n",
      "rho_q = 2.88075132054619\n",
      "beta = 0.46954010110948574\n",
      "rho_q = 2.88075132054619\n",
      "beta = 0.46954010110948574\n",
      "rho_q = 2.88075132054619\n",
      "beta = 0.46954010110948574\n",
      "rho_q = 2.88075132054619\n",
      "beta = 0.46954010110948574\n",
      "rho_q = 2.88075132054619\n",
      "beta = 0.46954010110948574\n",
      "rho_q = 2.88075132054619\n",
      "beta = 0.46954010110948574\n",
      "rho_q = 2.88075132054619\n",
      "beta = 0.46954010110948574\n",
      "rho_q = 2.88075132054619\n",
      "beta = 0.46954010110948574\n",
      "rho_q = 2.88075132054619\n",
      "beta = 0.46954010110948574\n",
      "rho_q = 2.88075132054619\n",
      "beta = 0.46954010110948574\n",
      "rho_q = 2.88075132054619\n",
      "beta = 0.46954010110948574\n",
      "rho_q = 2.88075132054619\n",
      "beta = 0.46954010110948574\n",
      "rho_q = 2.88075132054619\n",
      "beta = 0.46954010110948574\n",
      "rho_q = 2.88075132054619\n",
      "beta = 0.46954010110948574\n",
      "rho_q = 2.88075132054619\n",
      "beta = 0.46954010110948574\n",
      "rho_q = 2.88075132054619\n",
      "beta = 0.46954010110948574\n",
      "rho_q = 2.88075132054619\n",
      "beta = 0.46954010110948574\n",
      "rho_q = 2.88075132054619\n",
      "beta = 0.46954010110948574\n",
      "rho_q = 2.88075132054619\n",
      "beta = 0.46954010110948574\n",
      "rho_q = 2.88075132054619\n",
      "beta = 0.46954010110948574\n",
      "rho_q = 2.88075132054619\n",
      "beta = 0.46954010110948574\n",
      "rho_q = 2.88075132054619\n",
      "beta = 0.46954010110948574\n",
      "rho_q = 2.88075132054619\n",
      "beta = 0.46954010110948574\n",
      "rho_q = 2.88075132054619\n",
      "beta = 0.46954010110948574\n",
      "rho_q = 2.88075132054619\n",
      "beta = 0.46954010110948574\n",
      "rho_q = 3.49977915472645\n",
      "beta = 0.46954010110948574\n",
      "rho_q = 3.49977915472645\n",
      "beta = 0.46954010110948574\n",
      "rho_q = 3.49977915472645\n",
      "beta = 0.46954010110948574\n",
      "rho_q = 3.49977915472645\n",
      "beta = 0.46954010110948574\n",
      "rho_q = 3.49977915472645\n",
      "beta = 0.46954010110948574\n",
      "rho_q = 3.49977915472645\n",
      "beta = 0.46954010110948574\n",
      "rho_q = 3.49977915472645\n",
      "beta = 0.46954010110948574\n",
      "rho_q = 3.49977915472645\n",
      "beta = 0.46954010110948574\n",
      "rho_q = 3.49977915472645\n",
      "beta = 0.46954010110948574\n",
      "rho_q = 3.49977915472645\n",
      "beta = 0.46954010110948574\n",
      "rho_q = 3.49977915472645\n",
      "beta = 0.46954010110948574\n",
      "rho_q = 3.49977915472645\n",
      "beta = 0.46954010110948574\n",
      "rho_q = 3.49977915472645\n",
      "beta = 0.46954010110948574\n",
      "rho_q = 3.49977915472645\n",
      "beta = 0.46954010110948574\n",
      "rho_q = 3.49977915472645\n",
      "beta = 0.46954010110948574\n",
      "rho_q = 3.49977915472645\n",
      "beta = 0.46954010110948574\n",
      "rho_q = 3.49977915472645\n",
      "beta = 0.46954010110948574\n",
      "rho_q = 3.49977915472645\n",
      "beta = 0.46954010110948574\n",
      "rho_q = 3.49977915472645\n",
      "beta = 0.46954010110948574\n",
      "rho_q = 3.49977915472645\n",
      "beta = 0.46954010110948574\n",
      "rho_q = 3.49977915472645\n",
      "beta = 0.46954010110948574\n",
      "rho_q = 3.49977915472645\n",
      "beta = 0.46954010110948574\n",
      "rho_q = 3.49977915472645\n",
      "beta = 0.46954010110948574\n",
      "rho_q = 3.49977915472645\n",
      "beta = 0.46954010110948574\n",
      "rho_q = 3.49977915472645\n",
      "beta = 0.46954010110948574\n",
      "rho_q = 3.49977915472645\n",
      "beta = 0.46954010110948574\n",
      "rho_q = 3.49977915472645\n",
      "beta = 0.46954010110948574\n",
      "rho_q = 3.49977915472645\n",
      "beta = 0.46954010110948574\n",
      "rho_q = 3.49977915472645\n",
      "beta = 0.46954010110948574\n",
      "rho_q = 3.49977915472645\n",
      "beta = 0.46954010110948574\n",
      "rho_q = 3.49977915472645\n",
      "beta = 0.46954010110948574\n",
      "rho_q = 3.49977915472645\n",
      "beta = 0.46954010110948574\n",
      "rho_q = 3.49977915472645\n",
      "beta = 0.46954010110948574\n",
      "rho_q = 3.49977915472645\n",
      "beta = 0.46954010110948574\n",
      "rho_q = 3.49977915472645\n",
      "beta = 0.46954010110948574\n",
      "rho_q = 3.49977915472645\n",
      "beta = 0.46954010110948574\n",
      "rho_q = 3.49977915472645\n",
      "beta = 0.46954010110948574\n",
      "rho_q = 3.49977915472645\n",
      "beta = 0.46954010110948574\n",
      "rho_q = 3.49977915472645\n",
      "beta = 0.46954010110948574\n",
      "rho_q = 3.49977915472645\n",
      "beta = 0.46954010110948574\n",
      "rho_q = 3.49977915472645\n",
      "beta = 0.46954010110948574\n",
      "rho_q = 3.49977915472645\n",
      "beta = 0.46954010110948574\n",
      "rho_q = 3.49977915472645\n",
      "beta = 0.46954010110948574\n",
      "rho_q = 3.49977915472645\n",
      "beta = 0.46954010110948574\n",
      "rho_q = 3.49977915472645\n",
      "beta = 0.46954010110948574\n",
      "rho_q = 3.49977915472645\n",
      "beta = 0.46954010110948574\n",
      "rho_q = 3.49977915472645\n",
      "beta = 0.46954010110948574\n",
      "rho_q = 3.49977915472645\n",
      "beta = 0.46954010110948574\n",
      "rho_q = 3.49977915472645\n",
      "beta = 0.46954010110948574\n",
      "rho_q = 3.49977915472645\n",
      "beta = 0.46954010110948574\n"
     ]
    },
    {
     "data": {
      "text/plain": "[<matplotlib.lines.Line2D at 0x7ffdd1221c40>]"
     },
     "execution_count": 30,
     "metadata": {},
     "output_type": "execute_result"
    },
    {
     "data": {
      "text/plain": "<Figure size 648x648 with 1 Axes>",
      "image/png": "[encoded data removed]"
     },
     "metadata": {
      "needs_background": "light"
     },
     "output_type": "display_data"
    }
   ],
   "source": [
    "from matplotlib import pyplot as plt\n",
    "\n",
    "\"\"\"\n",
    "There are 10 instances in results which is one for every pixel line.\n",
    "\n",
    "The beta value for each instance is the same whilst the rho_q is only\n",
    "the same for instances with the same date.\n",
    "\"\"\"\n",
    "for instance in result.instance:\n",
    "    print(f\"rho_q = {instance.rho_q}\")\n",
    "    print(f\"beta = {instance.beta}\")\n",
    "\n",
    "\"\"\"\n",
    "Let's plot this to see what happens over time.\n",
    "\"\"\"\n",
    "date_rho_dict = {\n",
    "    analysis.pixel_line.date: instance.rho_q\n",
    "    for instance, analysis\n",
    "    in zip(result.instance, analyses)\n",
    "}\n",
    "\n",
    "dates, rho_qs = zip(*sorted(date_rho_dict.items(), key=lambda t: t[0]))\n",
    "\n",
    "plt.plot(dates, rho_qs)"
   ],
   "metadata": {
    "collapsed": false,
    "pycharm": {
     "name": "#%%\n"
    }
   }
  }
 ],
 "metadata": {
  "kernelspec": {
   "display_name": "Python 3",
   "language": "python",
   "name": "python3"
  },
  "language_info": {
   "codemirror_mode": {
    "name": "ipython",
    "version": 2
   },
   "file_extension": ".py",
   "mimetype": "text/x-python",
   "name": "python",
   "nbconvert_exporter": "python",
   "pygments_lexer": "ipython2",
   "version": "2.7.6"
  }
 },
 "nbformat": 4,
 "nbformat_minor": 0
}