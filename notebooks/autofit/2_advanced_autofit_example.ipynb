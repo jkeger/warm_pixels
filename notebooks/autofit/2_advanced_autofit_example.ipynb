{
 "cells": [
  {
   "cell_type": "code",
   "execution_count": 1,
   "metadata": {
    "collapsed": true
   },
   "outputs": [],
   "source": [
    "\n",
    "import autofit as af\n",
    "from warm_pixels import hst_utilities as ut, PixelLine\n",
    "\n",
    "pixel_line_dict = {\n",
    "    \"location\": [\n",
    "        13,\n",
    "        0\n",
    "    ],\n",
    "    \"date\": 2453963.758414352,\n",
    "    \"background\": 31.30540652532858,\n",
    "    \"flux\": 1760.68,\n",
    "    \"data\": [\n",
    "        52.64056497616352,\n",
    "        48.48841447972527,\n",
    "        49.40091619555943,\n",
    "        48.330892024903015,\n",
    "        47.84054545587673,\n",
    "        49.30878150582641,\n",
    "        48.7121868929113,\n",
    "        49.20193282738758,\n",
    "        48.38848720733444,\n",
    "        47.789888907267816,\n",
    "        46.1216780158082,\n",
    "        47.62116196030635,\n",
    "        2316.1096385003216,\n",
    "        52.00117416910645,\n",
    "        47.39681472247756,\n",
    "        49.04053644125149,\n",
    "        50.73253979945862,\n",
    "        48.887028747158176,\n",
    "        49.761016613247854,\n",
    "        50.582789329908614,\n",
    "        49.89475223938497,\n",
    "        47.96562226593793,\n",
    "        48.13477786554208,\n",
    "        51.41839400253888,\n",
    "        49.58684465281521\n",
    "    ],\n",
    "    \"noise\": [\n",
    "        1.7182103404229303,\n",
    "        1.1166195237573258,\n",
    "        1.2968256178459387,\n",
    "        0.972655469471766,\n",
    "        0.6973247704784217,\n",
    "        0.9908904439992736,\n",
    "        1.14339830068772,\n",
    "        1.3159924814976593,\n",
    "        0.859036863542967,\n",
    "        0.8633995566280004,\n",
    "        0.40491942438735434,\n",
    "        0.7045832874622435,\n",
    "        6.9356449752906215,\n",
    "        0.8668206366957554,\n",
    "        0.4286787210661135,\n",
    "        0.9599202153163372,\n",
    "        1.4048511101130459,\n",
    "        0.6924283058142602,\n",
    "        1.1834516970981601,\n",
    "        1.1475066293762684,\n",
    "        0.9786730064496794,\n",
    "        0.9350281902071158,\n",
    "        0.8393195956710766,\n",
    "        1.3560323220866162,\n",
    "        1.2543348504815965\n",
    "    ],\n",
    "}\n",
    "\n",
    "pixel_line = PixelLine.from_dict(pixel_line_dict)\n",
    "date = pixel_line_dict[\"date\"]"
   ]
  },
  {
   "cell_type": "code",
   "execution_count": 2,
   "outputs": [],
   "source": [
    "from warm_pixels.fit.model import TrailModel\n",
    "\n",
    "# CCD\n",
    "beta = 0.478\n",
    "w = 84700.0\n",
    "# Trap species\n",
    "a = 0.17\n",
    "b = 0.45\n",
    "c = 0.38\n",
    "# Trap lifetimes before or after the temperature change\n",
    "if date < ut.date_T_change:\n",
    "    tau_a = 0.48\n",
    "    tau_b = 4.86\n",
    "    tau_c = 20.6\n",
    "else:\n",
    "    tau_a = 0.74\n",
    "    tau_b = 7.70\n",
    "    tau_c = 37.0\n",
    "\n",
    "# CCD\n",
    "rho_q = af.UniformPrior(\n",
    "    lower_limit=0.0,\n",
    "    upper_limit=10.0,\n",
    ")\n",
    "# beta = af.GaussianPrior(\n",
    "#     mean=0.478,\n",
    "#     sigma=0.1,\n",
    "# )\n",
    "# w = af.GaussianPrior(\n",
    "#     mean=84700.0,\n",
    "#     sigma=20000,\n",
    "# )\n",
    "\n",
    "# Trap species\n",
    "a = af.UniformPrior(\n",
    "    lower_limit=0.0,\n",
    "    upper_limit=1.0,\n",
    ")\n",
    "b = af.UniformPrior(\n",
    "    lower_limit=0.0,\n",
    "    upper_limit=1.0,\n",
    ")\n",
    "c = 1 - (a + b)\n",
    "\n",
    "# tau_a = af.GaussianPrior(\n",
    "#     mean=tau_a,\n",
    "#     sigma=0.2,\n",
    "# )\n",
    "# tau_b = af.GaussianPrior(\n",
    "#     mean=tau_b,\n",
    "#     sigma=2.0,\n",
    "# )\n",
    "# tau_c = af.GaussianPrior(\n",
    "#     mean=tau_c,\n",
    "#     sigma=10.0,\n",
    "# )\n",
    "\n",
    "model = af.Model(\n",
    "    TrailModel,\n",
    "    rho_q=rho_q,\n",
    "    beta=beta,\n",
    "    w=w,\n",
    "    a=a,\n",
    "    b=b,\n",
    "    c=c,\n",
    "    tau_a=tau_a,\n",
    "    tau_b=tau_b,\n",
    "    tau_c=tau_c,\n",
    ")\n",
    "\n",
    "model.add_assertion(c > 0.0)"
   ],
   "metadata": {
    "collapsed": false,
    "pycharm": {
     "name": "#%%\n"
    }
   }
  },
  {
   "cell_type": "code",
   "execution_count": 3,
   "outputs": [
    {
     "name": "stdout",
     "output_type": "stream",
     "text": [
      "2022-10-10 10:15:26,656 - autofit.non_linear.abstract_search - INFO - Creating search\n",
      "2022-10-10 10:15:26,680 - root - INFO - Starting search\n",
      "2022-10-10 10:15:26,682 - root - INFO - Saving path info\n",
      "2022-10-10 10:15:26,683 - root - INFO - Not complete. Starting non-linear search.\n",
      "2022-10-10 10:15:26,684 - autofit.non_linear.initializer - INFO - Generating initial samples of model, which are subject to prior limits and other constraints.\n",
      "2022-10-10 10:15:26,712 - root - INFO - No Dynesty samples found, beginning new non-linear search. \n"
     ]
    },
    {
     "name": "stderr",
     "output_type": "stream",
     "text": [
      "226it [00:00, 273.72it/s, +50 | bound: 6 | nc: 1 | ncall: 1814 | eff(%): 15.215 | loglstar:   -inf < -19.985 <    inf | logz: -21.601 +/-  0.175 | dlogz:  0.001 >  0.059]"
     ]
    },
    {
     "name": "stdout",
     "output_type": "stream",
     "text": [
      "2022-10-10 10:15:27,551 - root - INFO - 5000 Iterations: Performing update (Visualization, outputting samples, etc.).\n"
     ]
    },
    {
     "name": "stderr",
     "output_type": "stream",
     "text": [
      "\n",
      "226it [00:00, 63716.66it/s, +50 | bound: 6 | nc: 1 | ncall: 1814 | eff(%): 15.215 | loglstar:   -inf < -19.985 <    inf | logz: -21.601 +/-  0.175 | dlogz:  0.001 >  0.059]"
     ]
    },
    {
     "name": "stdout",
     "output_type": "stream",
     "text": [
      "2022-10-10 10:15:27,574 - root - INFO - 10000 Iterations: Performing update (Visualization, outputting samples, etc.).\n",
      "2022-10-10 10:15:27,593 - root - INFO - 15000 Iterations: Performing update (Visualization, outputting samples, etc.).\n"
     ]
    },
    {
     "name": "stderr",
     "output_type": "stream",
     "text": [
      "\n"
     ]
    },
    {
     "name": "stdout",
     "output_type": "stream",
     "text": [
      "2022-10-10 10:15:30,603 - root - INFO - Removing zip file\n"
     ]
    },
    {
     "data": {
      "text/plain": "<Figure size 648x648 with 1 Axes>",
      "image/png": "[encoded data removed]"
     },
     "metadata": {
      "needs_background": "light"
     },
     "output_type": "display_data"
    }
   ],
   "source": [
    "from warm_pixels.fit.analysis import Analysis\n",
    "from matplotlib import pyplot as plt\n",
    "\n",
    "\"\"\"\n",
    "We make an instance of the analysis, passing it the data and associated variables.\n",
    "\"\"\"\n",
    "\n",
    "analysis = Analysis(\n",
    "    pixel_line=pixel_line,\n",
    ")\n",
    "plt.plot(analysis.x, analysis.y)\n",
    "\n",
    "\"\"\"\n",
    "We make our optimiser which we can configure\n",
    "\"\"\"\n",
    "\n",
    "dynesty = af.DynestyStatic()\n",
    "\n",
    "\"\"\"\n",
    "Optimisation is performed by passing the model and the analysis to the fit function\n",
    "\"\"\"\n",
    "\n",
    "result = dynesty.fit(\n",
    "    model=model,\n",
    "    analysis=analysis,\n",
    ")"
   ],
   "metadata": {
    "collapsed": false,
    "pycharm": {
     "name": "#%%\n"
    }
   }
  },
  {
   "cell_type": "code",
   "execution_count": 4,
   "outputs": [
    {
     "name": "stdout",
     "output_type": "stream",
     "text": [
      "log likelihood = -19.984893322590292\n",
      "rho_q = 9.56995597496993\n",
      "a = 0.21979302587797\n",
      "b = 0.2881513377507\n",
      "c = 0.49205563637133\n"
     ]
    }
   ],
   "source": [
    "\"\"\"\n",
    "The log likelihood and best parametrisation can be found from the result\n",
    "\"\"\"\n",
    "\n",
    "print(f\"log likelihood = {result.log_likelihood}\")\n",
    "\n",
    "best_trail_model = result.instance\n",
    "\n",
    "print(f\"rho_q = {best_trail_model.rho_q}\")\n",
    "print(f\"a = {best_trail_model.a}\")\n",
    "print(f\"b = {best_trail_model.b}\")\n",
    "print(f\"c = {best_trail_model.c}\")"
   ],
   "metadata": {
    "collapsed": false,
    "pycharm": {
     "name": "#%%\n"
    }
   }
  }
 ],
 "metadata": {
  "kernelspec": {
   "display_name": "Python 3",
   "language": "python",
   "name": "python3"
  },
  "language_info": {
   "codemirror_mode": {
    "name": "ipython",
    "version": 2
   },
   "file_extension": ".py",
   "mimetype": "text/x-python",
   "name": "python",
   "nbconvert_exporter": "python",
   "pygments_lexer": "ipython2",
   "version": "2.7.6"
  }
 },
 "nbformat": 4,
 "nbformat_minor": 0
}