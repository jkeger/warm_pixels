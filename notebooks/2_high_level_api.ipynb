{
 "cells": [
  {
   "cell_type": "code",
   "execution_count": 1,
   "metadata": {
    "collapsed": true
   },
   "outputs": [
    {
     "name": "stderr",
     "output_type": "stream",
     "text": [
      "WARNING:autoconf.conf:Pushing new config with path /Users/richardhayes/anaconda3/envs/warm_pixels/lib/python3.8/site-packages/autoarray/config\n",
      "WARNING:autoconf.conf:No configuration found at path /Users/richardhayes/cti/warm_pixels/notebooks/config\n"
     ]
    },
    {
     "name": "stdout",
     "output_type": "stream",
     "text": [
      "Source contains 5 datasets\n",
      "First dataset richmassey60491 (1629)\n",
      "Last dataset 07_2020_original (6711)\n"
     ]
    }
   ],
   "source": [
    "from pathlib import Path\n",
    "\n",
    "import warm_pixels as wp\n",
    "\n",
    "# We assume our data is in a directory parallel to warm_pixels called 'hst_acs_datasets'\n",
    "data_directory = Path.cwd().parent.parent / \"hst_acs_datasets\"\n",
    "\n",
    "# We can create an object to access all datasets in that directory\n",
    "source = wp.Source(\n",
    "    data_directory\n",
    ")\n",
    "print(f\"Source contains {len(source)} datasets\")\n",
    "\n",
    "first = source[0]\n",
    "last = source[-1]\n",
    "print(f\"First dataset {first} ({first.days_since_launch()})\")\n",
    "print(f\"Last dataset {last} ({last.days_since_launch()})\")"
   ]
  },
  {
   "cell_type": "code",
   "execution_count": 2,
   "outputs": [
    {
     "name": "stdout",
     "output_type": "stream",
     "text": [
      "Source contains 4 datasets\n",
      "First dataset richmassey61092 (1655)\n"
     ]
    }
   ],
   "source": [
    "# Let's filter out a dataset from before a given date\n",
    "source = source.after(1629)\n",
    "first = source[0]\n",
    "print(f\"Source contains {len(source)} datasets\")\n",
    "print(f\"First dataset {first} ({first.days_since_launch()})\")"
   ],
   "metadata": {
    "collapsed": false,
    "pycharm": {
     "name": "#%%\n"
    }
   }
  },
  {
   "cell_type": "code",
   "execution_count": 3,
   "outputs": [
    {
     "name": "stdout",
     "output_type": "stream",
     "text": [
      "Source contains 2 datasets\n"
     ]
    }
   ],
   "source": [
    "# We can downsample too. We skip to every nth dataset.\n",
    "source = source.downsample(2)\n",
    "print(f\"Source contains {len(source)} datasets\")"
   ],
   "metadata": {
    "collapsed": false,
    "pycharm": {
     "name": "#%%\n"
    }
   }
  },
  {
   "cell_type": "code",
   "execution_count": 4,
   "outputs": [
    {
     "name": "stdout",
     "output_type": "stream",
     "text": [
      "output/density_evol_hst_acs_datasets_after_1629_downsampled_2AB.png already exists\n"
     ]
    }
   ],
   "source": [
    "# A warm pixels object can easily be created from our source\n",
    "warm_pixels = wp.WarmPixels(\n",
    "    datasets=list(source),\n",
    "    quadrants_string=\"AB\"\n",
    ")\n",
    "\n",
    "# And from this we can create a plot object\n",
    "plot = wp.plot.Plot(\n",
    "    warm_pixels,\n",
    "    list_name=str(source),\n",
    ")\n",
    "\n",
    "# We can use this object to produce plots\n",
    "plot.density()\n",
    "\n",
    "# Note that the filenames for plots are generated to be unique. Files are output to the output/ directory."
   ],
   "metadata": {
    "collapsed": false,
    "pycharm": {
     "name": "#%%\n"
    }
   }
  },
  {
   "cell_type": "code",
   "execution_count": null,
   "outputs": [
    {
     "name": "stdout",
     "output_type": "stream",
     "text": [
      "  Correcting j9epu6bvq_raw.fits (1 of richmassey61092)... Iter 1: Iter 2: Iter 3: Iter 4: Iter 5: Iter 1: Iter 2: Iter 3: Iter 4: Iter 5: Iter 1: Iter 2: Iter 3: Iter 4: Iter 5: Iter 1: Iter 2: Iter 3: Iter 4: Iter 5: Saved j9epu6bvq_raw_cor\n",
      "  Correcting j9epu6c0q_raw.fits (2 of richmassey61092)... Iter 1: Iter 2: Iter 3: Iter 4: Iter 5: Iter 1: Iter 2: Iter 3: Iter 4: Iter 5: Iter 1: "
     ]
    }
   ],
   "source": [
    "source = source.corrected()\n",
    "warm_pixels = warm_pixels(\n",
    "    datasets=list(source),\n",
    "    quadrants_string=\"AB\"\n",
    ")\n",
    "\n",
    "plot = wp.plot.Plot(\n",
    "    warm_pixels,\n",
    "    list_name=str(source),\n",
    "    use_corrected=True,\n",
    ")\n",
    "\n",
    "plot.warm_pixels()"
   ],
   "metadata": {
    "collapsed": false,
    "pycharm": {
     "name": "#%% It's also possible to do the same but for corrected data\n",
     "is_executing": true
    }
   }
  }
 ],
 "metadata": {
  "kernelspec": {
   "display_name": "Python 3",
   "language": "python",
   "name": "python3"
  },
  "language_info": {
   "codemirror_mode": {
    "name": "ipython",
    "version": 2
   },
   "file_extension": ".py",
   "mimetype": "text/x-python",
   "name": "python",
   "nbconvert_exporter": "python",
   "pygments_lexer": "ipython2",
   "version": "2.7.6"
  }
 },
 "nbformat": 4,
 "nbformat_minor": 0
}