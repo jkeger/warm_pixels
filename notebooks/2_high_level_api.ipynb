{
 "cells": [
  {
   "cell_type": "code",
   "execution_count": 2,
   "metadata": {
    "collapsed": true
   },
   "outputs": [
    {
     "name": "stdout",
     "output_type": "stream",
     "text": [
      "Source contains5 datasets\n",
      "First dataset richmassey60491 (1629)\n",
      "Last dataset 07_2020_original (6711)\n"
     ]
    }
   ],
   "source": [
    "from pathlib import Path\n",
    "\n",
    "import warm_pixels as wp\n",
    "\n",
    "# We assume our data is in a directory parallel to warm_pixels called 'hst_acs_datasets'\n",
    "data_directory = Path.cwd().parent.parent / \"hst_acs_datasets\"\n",
    "\n",
    "# We can create an object to access all datasets in that directory\n",
    "source = wp.Source(\n",
    "    data_directory\n",
    ")\n",
    "print(f\"Source contains {len(source)} datasets\")\n",
    "\n",
    "first = source[0]\n",
    "last = source[-1]\n",
    "print(f\"First dataset {first} ({first.days_since_launch()})\")\n",
    "print(f\"Last dataset {last} ({last.days_since_launch()})\")"
   ]
  }
 ],
 "metadata": {
  "kernelspec": {
   "display_name": "Python 3",
   "language": "python",
   "name": "python3"
  },
  "language_info": {
   "codemirror_mode": {
    "name": "ipython",
    "version": 2
   },
   "file_extension": ".py",
   "mimetype": "text/x-python",
   "name": "python",
   "nbconvert_exporter": "python",
   "pygments_lexer": "ipython2",
   "version": "2.7.6"
  }
 },
 "nbformat": 4,
 "nbformat_minor": 0
}