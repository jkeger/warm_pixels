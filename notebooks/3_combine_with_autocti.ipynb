{
 "cells": [
  {
   "cell_type": "code",
   "execution_count": 1,
   "metadata": {
    "collapsed": true
   },
   "outputs": [],
   "source": [
    "from pathlib import Path\n",
    "\n",
    "import warm_pixels as wp\n",
    "\n",
    "# We assume our data is in a directory parallel to warm_pixels called 'hst_acs_datasets'\n",
    "data_directory = Path.cwd().parent.parent / \"hst_acs_datasets\"\n",
    "\n",
    "# We can create an object to access all datasets in that directory\n",
    "source = wp.Source(\n",
    "    data_directory\n",
    ")\n",
    "\n",
    "# We can get a list of datasets from that source\n",
    "datasets = list(source)\n",
    "\n",
    "# Each dataset comprises several images captured on a given date\n",
    "dataset = datasets[0]"
   ]
  },
  {
   "cell_type": "code",
   "execution_count": 2,
   "outputs": [],
   "source": [
    "# We can get the images from a dataset\n",
    "images = dataset.images\n",
    "image = images[0]\n",
    "\n",
    "# Each image has 4 quadrants which can be addressed by letter\n",
    "quadrant_a = image.quadrant(\"A\")\n",
    "\n",
    "# We can get an array for that quadrant\n",
    "array = quadrant_a.array()"
   ],
   "metadata": {
    "collapsed": false,
    "pycharm": {
     "name": "#%%\n"
    }
   }
  },
  {
   "cell_type": "code",
   "execution_count": 3,
   "outputs": [
    {
     "name": "stdout",
     "output_type": "stream",
     "text": [
      "2022-10-03 15:11:44,498 - richmassey60491 - INFO - Retrieving groups\n",
      "2022-10-03 15:11:44,499 - richmassey61092 - INFO - Retrieving groups\n",
      "2022-10-03 15:11:44,500 - 04_2017 - INFO - Retrieving groups\n",
      "2022-10-03 15:11:44,501 - 10_2017 - INFO - Retrieving groups\n",
      "2022-10-03 15:11:44,502 - 07_2020_original - INFO - Retrieving groups\n"
     ]
    }
   ],
   "source": [
    "# We can search for warm pixels by making a WarmPixels object from our dataset\n",
    "warm_pixels = wp.WarmPixels(\n",
    "    datasets=datasets,\n",
    ")\n",
    "\n",
    "# Groups of quadrants with one item for each dataset.\n",
    "groups = warm_pixels.all_groups()\n",
    "\n",
    "# A list of groups for the first dataset. There is one group for each combination\n",
    "# of quadrants. By default there is only one group with quadrants ABCD\n",
    "first_dataset_groups = groups[0]\n",
    "group = first_dataset_groups[0]"
   ],
   "metadata": {
    "collapsed": false,
    "pycharm": {
     "name": "#%%\n"
    }
   }
  },
  {
   "cell_type": "code",
   "execution_count": 4,
   "outputs": [
    {
     "name": "stdout",
     "output_type": "stream",
     "text": [
      "{\n",
      "    \"location\": [\n",
      "        13.0,\n",
      "        0\n",
      "    ],\n",
      "    \"date\": 2453963.758414352,\n",
      "    \"background\": 31.30540652532858,\n",
      "    \"flux\": 992.075,\n",
      "    \"data\": [\n",
      "        46.933043816970624,\n",
      "        46.3701649771964,\n",
      "        48.711080079945226,\n",
      "        48.11518701894584,\n",
      "        48.14361054867522,\n",
      "        48.00110239950205,\n",
      "        46.16310970820016,\n",
      "        47.16358109918174,\n",
      "        46.49024043290878,\n",
      "        46.863087745614244,\n",
      "        45.796840479854254,\n",
      "        45.55346051503446,\n",
      "        1309.4024294348244,\n",
      "        48.59285309531201,\n",
      "        46.63910977027298,\n",
      "        47.10570908449849,\n",
      "        48.99711399716423,\n",
      "        48.20789077340186,\n",
      "        47.29295786328075,\n",
      "        48.53875401695496,\n",
      "        48.920490584648604,\n",
      "        48.141066131134835,\n",
      "        47.34273778298907,\n",
      "        50.227607541836136,\n",
      "        47.744377164578616\n",
      "    ],\n",
      "    \"noise\": [\n",
      "        0.5256967407012534,\n",
      "        0.4280892624149115,\n",
      "        0.789855949552933,\n",
      "        0.6217203894640145,\n",
      "        0.5786548351791704,\n",
      "        0.5849704312132465,\n",
      "        0.4655796354315316,\n",
      "        0.520450891288638,\n",
      "        0.46729646303852607,\n",
      "        0.5451477925803473,\n",
      "        0.32636264608977256,\n",
      "        0.2349003033720228,\n",
      "        3.0453790917701253,\n",
      "        0.3580557547977746,\n",
      "        0.28042682627171855,\n",
      "        0.44804424425163564,\n",
      "        0.6752575443696331,\n",
      "        0.4971518347953273,\n",
      "        0.4332561468089131,\n",
      "        0.6849637230632679,\n",
      "        0.5805219047418141,\n",
      "        0.5610511215490508,\n",
      "        0.5220946749091355,\n",
      "        0.7818605598254397,\n",
      "        0.558755420934289\n",
      "    ]\n",
      "}\n"
     ]
    }
   ],
   "source": [
    "import json\n",
    "\n",
    "# Warm pixel lines are extracted and grouped into bins by their attributes.\n",
    "# 1) Find warm pixels\n",
    "# 2) Extract the CTI trail corresponding to those warm pixels\n",
    "# 3) Keep only those lines which appear consistently across multiple images\n",
    "# 4) Stack warm pixels into bins with similar CCD row, flux, background and date\n",
    "stacked_lines = group.stacked_lines()\n",
    "\n",
    "# Each stacked line has a dictionary representation\n",
    "stacked_line_dicts = [\n",
    "    stacked_line.dict\n",
    "    for stacked_line\n",
    "    in stacked_lines\n",
    "]\n",
    "\n",
    "# Let's see what the first one looks like\n",
    "print(json.dumps(stacked_line_dicts[0], indent=4))\n",
    "\n",
    "# We can save these to a JSON\n",
    "with open(\"stacked_lines.json\", \"w+\") as f:\n",
    "    json.dump(stacked_line_dicts, f)"
   ],
   "metadata": {
    "collapsed": false,
    "pycharm": {
     "name": "#%%\n"
    }
   }
  },
  {
   "cell_type": "code",
   "execution_count": 5,
   "outputs": [
    {
     "name": "stdout",
     "output_type": "stream",
     "text": [
      "<class 'int'>\n"
     ]
    },
    {
     "data": {
      "text/plain": "<autocti.dataset_1d.dataset_1d.dataset_1d.Dataset1D at 0x7fe9816d4d00>"
     },
     "execution_count": 5,
     "metadata": {},
     "output_type": "execute_result"
    }
   ],
   "source": [
    "from autocti.dataset_1d.dataset_1d.dataset_1d import Dataset1D\n",
    "\n",
    "# We can find the size if our CCD from the shape of the array we loaded earlier\n",
    "size = array.shape[0]\n",
    "\n",
    "# Using this and a pixel line dictionary we can create a Dataset1D. This can\n",
    "# then be used with autocti.\n",
    "dataset_1d = Dataset1D.from_pixel_line_dict(\n",
    "    stacked_line_dicts[0],\n",
    "    size=size,\n",
    ")\n",
    "\n",
    "# Better yet we can create a Dataset1D for every stacked pixel line we found\n",
    "dataset_1ds = [\n",
    "    Dataset1D.from_pixel_line_dict(\n",
    "        stacked_line_dict,\n",
    "        size=array.shape[0],\n",
    "    )\n",
    "    for stacked_line_dict\n",
    "    in stacked_line_dicts\n",
    "]"
   ],
   "metadata": {
    "collapsed": false,
    "pycharm": {
     "name": "#%%\n"
    }
   }
  }
 ],
 "metadata": {
  "kernelspec": {
   "display_name": "Python 3",
   "language": "python",
   "name": "python3"
  },
  "language_info": {
   "codemirror_mode": {
    "name": "ipython",
    "version": 2
   },
   "file_extension": ".py",
   "mimetype": "text/x-python",
   "name": "python",
   "nbconvert_exporter": "python",
   "pygments_lexer": "ipython2",
   "version": "2.7.6"
  }
 },
 "nbformat": 4,
 "nbformat_minor": 0
}