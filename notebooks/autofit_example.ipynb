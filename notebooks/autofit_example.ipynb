{
 "cells": [
  {
   "cell_type": "code",
   "execution_count": 4,
   "metadata": {
    "collapsed": true
   },
   "outputs": [
    {
     "ename": "FileNotFoundError",
     "evalue": "[Errno 2] No such file or directory: '/Users/richardhayes/cti/warm_pixels/notebooks/data/x.pickle'",
     "output_type": "error",
     "traceback": [
      "\u001B[0;31m---------------------------------------------------------------------------\u001B[0m",
      "\u001B[0;31mFileNotFoundError\u001B[0m                         Traceback (most recent call last)",
      "Input \u001B[0;32mIn [4]\u001B[0m, in \u001B[0;36m<cell line: 18>\u001B[0;34m()\u001B[0m\n\u001B[1;32m     14\u001B[0m         \u001B[38;5;28;01mreturn\u001B[39;00m pickle\u001B[38;5;241m.\u001B[39mload(f)\n\u001B[1;32m     17\u001B[0m date \u001B[38;5;241m=\u001B[39m load_data(\u001B[38;5;124m\"\u001B[39m\u001B[38;5;124mdate\u001B[39m\u001B[38;5;124m\"\u001B[39m)\n\u001B[0;32m---> 18\u001B[0m x \u001B[38;5;241m=\u001B[39m \u001B[43mload_data\u001B[49m\u001B[43m(\u001B[49m\u001B[38;5;124;43m\"\u001B[39;49m\u001B[38;5;124;43mx\u001B[39;49m\u001B[38;5;124;43m\"\u001B[39;49m\u001B[43m)\u001B[49m\n\u001B[1;32m     19\u001B[0m y \u001B[38;5;241m=\u001B[39m load_data(\u001B[38;5;124m\"\u001B[39m\u001B[38;5;124my\u001B[39m\u001B[38;5;124m\"\u001B[39m)\n\u001B[1;32m     20\u001B[0m noise \u001B[38;5;241m=\u001B[39m load_data(\u001B[38;5;124m\"\u001B[39m\u001B[38;5;124mnoise\u001B[39m\u001B[38;5;124m\"\u001B[39m)\n",
      "Input \u001B[0;32mIn [4]\u001B[0m, in \u001B[0;36mload_data\u001B[0;34m(name)\u001B[0m\n\u001B[1;32m     12\u001B[0m \u001B[38;5;28;01mdef\u001B[39;00m \u001B[38;5;21mload_data\u001B[39m(name):\n\u001B[0;32m---> 13\u001B[0m     \u001B[38;5;28;01mwith\u001B[39;00m \u001B[38;5;28;43mopen\u001B[39;49m\u001B[43m(\u001B[49m\u001B[43mdata_directory\u001B[49m\u001B[43m \u001B[49m\u001B[38;5;241;43m/\u001B[39;49m\u001B[43m \u001B[49m\u001B[38;5;124;43mf\u001B[39;49m\u001B[38;5;124;43m\"\u001B[39;49m\u001B[38;5;132;43;01m{\u001B[39;49;00m\u001B[43mname\u001B[49m\u001B[38;5;132;43;01m}\u001B[39;49;00m\u001B[38;5;124;43m.pickle\u001B[39;49m\u001B[38;5;124;43m\"\u001B[39;49m\u001B[43m,\u001B[49m\u001B[43m \u001B[49m\u001B[38;5;124;43m\"\u001B[39;49m\u001B[38;5;124;43mr+b\u001B[39;49m\u001B[38;5;124;43m\"\u001B[39;49m\u001B[43m)\u001B[49m \u001B[38;5;28;01mas\u001B[39;00m f:\n\u001B[1;32m     14\u001B[0m         \u001B[38;5;28;01mreturn\u001B[39;00m pickle\u001B[38;5;241m.\u001B[39mload(f)\n",
      "\u001B[0;31mFileNotFoundError\u001B[0m: [Errno 2] No such file or directory: '/Users/richardhayes/cti/warm_pixels/notebooks/data/x.pickle'"
     ]
    }
   ],
   "source": [
    "import os.path\n",
    "import pickle\n",
    "from pathlib import Path\n",
    "\n",
    "import autofit as af\n",
    "\n",
    "from warm_pixels import hst_utilities as ut\n",
    "\n",
    "data_directory = Path(os.path.abspath(\"\")) / \"data\"\n",
    "\n",
    "\n",
    "def load_data(name):\n",
    "    with open(data_directory / f\"{name}.pickle\", \"r+b\") as f:\n",
    "        return pickle.load(f)\n",
    "\n",
    "\n",
    "date = load_data(\"date\")\n",
    "x = load_data(\"x\")\n",
    "y = load_data(\"y\")\n",
    "noise = load_data(\"noise\")\n",
    "n_e = load_data(\"n_e\")\n",
    "n_bg = load_data(\"n_bg\")\n",
    "row = load_data(\"row\")\n",
    "\n",
    "# CCD\n",
    "beta = 0.478\n",
    "w = 84700.0\n",
    "# Trap species\n",
    "a = 0.17\n",
    "b = 0.45\n",
    "c = 0.38\n",
    "# Trap lifetimes before or after the temperature change\n",
    "if date < ut.date_T_change:\n",
    "    tau_a = 0.48\n",
    "    tau_b = 4.86\n",
    "    tau_c = 20.6\n",
    "else:\n",
    "    tau_a = 0.74\n",
    "    tau_b = 7.70\n",
    "    tau_c = 37.0\n"
   ]
  },
  {
   "cell_type": "code",
   "execution_count": null,
   "outputs": [],
   "source": [
    "\n",
    "from autoarray.fit.fit_dataset import SimpleFit\n",
    "from warm_pixels.hst_functions.trail_model import trail_model\n",
    "\n",
    "\n",
    "class Analysis(af.Analysis):\n",
    "    def __init__(self, x, y, noise, n_e, n_bg, row):\n",
    "        self.x = x\n",
    "        self.y = y\n",
    "        self.noise = noise\n",
    "        self.n_e = n_e\n",
    "        self.n_bg = n_bg\n",
    "        self.row = row\n",
    "\n",
    "    def _model_trail(self, rho_q):\n",
    "        return trail_model(\n",
    "            self.x,\n",
    "            rho_q,\n",
    "            self.n_e,\n",
    "            self.n_bg,\n",
    "            self.row,\n",
    "            beta,\n",
    "            w, a, b, c,\n",
    "            tau_a,\n",
    "            tau_b,\n",
    "            tau_c,\n",
    "        )\n",
    "\n",
    "    def log_likelihood_function(self, instance):\n",
    "        modelled_trail = self._model_trail(instance)\n",
    "        fit = SimpleFit(\n",
    "            data=self.y,\n",
    "            model_data=modelled_trail,\n",
    "            noise_map=self.noise,\n",
    "        )\n",
    "        return fit.log_likelihood"
   ],
   "metadata": {
    "collapsed": false,
    "pycharm": {
     "name": "#%%\n"
    }
   }
  },
  {
   "cell_type": "code",
   "execution_count": null,
   "outputs": [],
   "source": [
    "rho_q_model = af.UniformPrior(\n",
    "    lower_limit=0.0,\n",
    "    upper_limit=10.0,\n",
    ")\n",
    "analysis = Analysis(\n",
    "    x=x,\n",
    "    y=y,\n",
    "    noise=noise,\n",
    "    n_e=n_e,\n",
    "    n_bg=n_bg,\n",
    "    row=row,\n",
    ")\n",
    "\n",
    "dynesty = af.DynestyStatic()\n",
    "\n",
    "result = dynesty.fit(\n",
    "    model=rho_q_model,\n",
    "    analysis=analysis,\n",
    ")"
   ],
   "metadata": {
    "collapsed": false,
    "pycharm": {
     "name": "#%%\n"
    }
   }
  }
 ],
 "metadata": {
  "kernelspec": {
   "display_name": "Python 3",
   "language": "python",
   "name": "python3"
  },
  "language_info": {
   "codemirror_mode": {
    "name": "ipython",
    "version": 2
   },
   "file_extension": ".py",
   "mimetype": "text/x-python",
   "name": "python",
   "nbconvert_exporter": "python",
   "pygments_lexer": "ipython2",
   "version": "2.7.6"
  }
 },
 "nbformat": 4,
 "nbformat_minor": 0
}