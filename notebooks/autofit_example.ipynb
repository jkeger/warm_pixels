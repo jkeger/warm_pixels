{
 "cells": [
  {
   "cell_type": "code",
   "execution_count": 3,
   "metadata": {
    "collapsed": true
   },
   "outputs": [],
   "source": [
    "import os.path\n",
    "import pickle\n",
    "from pathlib import Path\n",
    "import autofit as af\n",
    "from warm_pixels import hst_utilities as ut\n",
    "\n",
    "\n",
    "data_directory = Path(os.path.abspath(\"\")) / \"data\"\n",
    "\n",
    "\n",
    "def load_data(name):\n",
    "    with open(data_directory / f\"{name}.pickle\", \"r+b\") as f:\n",
    "        return pickle.load(f)\n",
    "\n",
    "\n",
    "date = load_data(\"date\")\n",
    "\n",
    "\n",
    "# CCD\n",
    "beta = 0.478\n",
    "w = 84700.0\n",
    "# Trap species\n",
    "A = 0.17\n",
    "B = 0.45\n",
    "C = 0.38\n",
    "# Trap lifetimes before or after the temperature change\n",
    "if date < ut.date_T_change:\n",
    "    tau_a = 0.48\n",
    "    tau_b = 4.86\n",
    "    tau_c = 20.6\n",
    "else:\n",
    "    tau_a = 0.74\n",
    "    tau_b = 7.70\n",
    "    tau_c = 37.0\n"
   ]
  },
  {
   "cell_type": "code",
   "execution_count": null,
   "outputs": [],
   "source": [
    "\n",
    "class Analysis(af.Analysis):\n",
    "    def __init__(self, x_all, y_all, noise_all, n_e_all, n_bg_all, row_all):\n",
    "        self.x_all = x_all\n",
    "        self.y_all = y_all\n",
    "        self.noise_all = noise_all\n",
    "        self.n_e_all = n_e_all\n",
    "        self.n_bg_all = n_bg_all\n",
    "        self.row_all = row_all\n",
    "\n",
    "    def log_likelihood_function(self, instance):\n",
    "        pass"
   ],
   "metadata": {
    "collapsed": false,
    "pycharm": {
     "name": "#%%\n"
    }
   }
  }
 ],
 "metadata": {
  "kernelspec": {
   "display_name": "Python 3",
   "language": "python",
   "name": "python3"
  },
  "language_info": {
   "codemirror_mode": {
    "name": "ipython",
    "version": 2
   },
   "file_extension": ".py",
   "mimetype": "text/x-python",
   "name": "python",
   "nbconvert_exporter": "python",
   "pygments_lexer": "ipython2",
   "version": "2.7.6"
  }
 },
 "nbformat": 4,
 "nbformat_minor": 0
}