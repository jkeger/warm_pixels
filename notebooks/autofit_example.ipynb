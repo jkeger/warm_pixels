{
 "cells": [
  {
   "cell_type": "code",
   "execution_count": 9,
   "metadata": {
    "collapsed": true
   },
   "outputs": [
    {
     "data": {
      "text/plain": "[<matplotlib.lines.Line2D at 0x7fd350cde2e0>]"
     },
     "execution_count": 9,
     "metadata": {},
     "output_type": "execute_result"
    },
    {
     "data": {
      "text/plain": "<Figure size 648x648 with 1 Axes>",
      "image/png": "[encoded data removed]"
     },
     "metadata": {
      "needs_background": "light"
     },
     "output_type": "display_data"
    }
   ],
   "source": [
    "import os.path\n",
    "import pickle\n",
    "from pathlib import Path\n",
    "\n",
    "import autofit as af\n",
    "from matplotlib import pyplot as plt\n",
    "\n",
    "from warm_pixels import hst_utilities as ut\n",
    "\n",
    "data_directory = Path(os.path.abspath(\"\")) / \"data\"\n",
    "\n",
    "\n",
    "def load_data(name):\n",
    "    with open(data_directory / f\"{name}.pickle\", \"r+b\") as f:\n",
    "        return pickle.load(f)\n",
    "\n",
    "\n",
    "date = load_data(\"date\")\n",
    "x = load_data(\"x\")\n",
    "y = load_data(\"y\")\n",
    "noise = load_data(\"noise\")\n",
    "n_e = load_data(\"n_e\")\n",
    "n_bg = load_data(\"n_bg\")\n",
    "row = load_data(\"row\")\n",
    "\n",
    "plt.plot(x, y)"
   ]
  },
  {
   "cell_type": "code",
   "execution_count": 10,
   "outputs": [],
   "source": [
    "\n",
    "\"\"\"\n",
    "We create an analysis class to hold data and compute how good a fit each instance\n",
    "is. The instance is some callable that given x, n_e, n_bg and row will return a\n",
    "trail modelled using a set of parameters sampled from parameter space.\n",
    "\n",
    "The analysis can also use this functionality to visualise the modelled trail and\n",
    "show how good a match it is.\n",
    "\"\"\"\n",
    "\n",
    "from autoarray.fit.fit_dataset import SimpleFit\n",
    "\n",
    "\n",
    "class Analysis(af.Analysis):\n",
    "    def __init__(self, x, y, noise, n_e, n_bg, row):\n",
    "        self.x = x\n",
    "        self.y = y\n",
    "        self.noise = noise\n",
    "        self.n_e = n_e\n",
    "        self.n_bg = n_bg\n",
    "        self.row = row\n",
    "\n",
    "    def visualize(self, paths, instance, during_analysis):\n",
    "        plt.plot(self.x, self.y)\n",
    "        plt.plot(self.x, instance(\n",
    "            x=self.x,\n",
    "            n_e=self.n_e,\n",
    "            n_bg=self.n_bg,\n",
    "            row=self.row,\n",
    "        ))\n",
    "\n",
    "    def log_likelihood_function(self, instance):\n",
    "        modelled_trail = instance(\n",
    "            x=self.x,\n",
    "            n_e=self.n_e,\n",
    "            n_bg=self.n_bg,\n",
    "            row=self.row,\n",
    "        )\n",
    "        fit = SimpleFit(\n",
    "            data=self.y,\n",
    "            model_data=modelled_trail,\n",
    "            noise_map=self.noise,\n",
    "        )\n",
    "        return fit.log_likelihood"
   ],
   "metadata": {
    "collapsed": false,
    "pycharm": {
     "name": "#%%\n"
    }
   }
  },
  {
   "cell_type": "code",
   "execution_count": 11,
   "outputs": [],
   "source": [
    "\"\"\"\n",
    "The TrailModel is what we're fitting as we optimise. It's parameterised by the arguments\n",
    "passed into the constructor (rho_q, beta, w, a, b, c, tau_a, tau_b and tau_c). These\n",
    "arguments can be constant or they can be a prior if we want the variable to be optimised.\n",
    "\n",
    "The trail model can be called to recover a modelled trail.\n",
    "\"\"\"\n",
    "\n",
    "from warm_pixels.hst_functions.trail_model import trail_model\n",
    "\n",
    "\n",
    "class TrailModel:\n",
    "    def __init__(\n",
    "            self,\n",
    "            rho_q,\n",
    "            beta,\n",
    "            w,\n",
    "            a,\n",
    "            b,\n",
    "            c,\n",
    "            tau_a,\n",
    "            tau_b,\n",
    "            tau_c,\n",
    "    ):\n",
    "        self.rho_q = rho_q\n",
    "        self.beta = beta\n",
    "        self.w = w\n",
    "        self.a = a\n",
    "        self.b = b\n",
    "        self.c = c\n",
    "        self.tau_a = tau_a\n",
    "        self.tau_b = tau_b\n",
    "        self.tau_c = tau_c\n",
    "\n",
    "    def __call__(self, x, n_e, n_bg, row):\n",
    "        return trail_model(\n",
    "            x=x,\n",
    "            rho_q=self.rho_q,\n",
    "            n_e=n_e,\n",
    "            n_bg=n_bg,\n",
    "            row=row,\n",
    "            beta=self.beta,\n",
    "            w=self.w,\n",
    "            A=self.a,\n",
    "            B=self.b,\n",
    "            C=self.c,\n",
    "            tau_a=self.tau_a,\n",
    "            tau_b=self.tau_b,\n",
    "            tau_c=self.tau_c,\n",
    "        )"
   ],
   "metadata": {
    "collapsed": false,
    "pycharm": {
     "name": "#%%\n"
    }
   }
  },
  {
   "cell_type": "code",
   "execution_count": 12,
   "outputs": [],
   "source": [
    "\"\"\"\n",
    "For now we're setting constant values for most parameters\n",
    "\"\"\"\n",
    "\n",
    "# CCD\n",
    "beta = 0.478\n",
    "w = 84700.0\n",
    "# Trap species\n",
    "a = 0.17\n",
    "b = 0.45\n",
    "c = 0.38\n",
    "# Trap lifetimes before or after the temperature change\n",
    "if date < ut.date_T_change:\n",
    "    tau_a = 0.48\n",
    "    tau_b = 4.86\n",
    "    tau_c = 20.6\n",
    "else:\n",
    "    tau_a = 0.74\n",
    "    tau_b = 7.70\n",
    "    tau_c = 37.0\n",
    "\n",
    "\"\"\"\n",
    "We make a model using the TrailModel type and passing kwargs for each of the constructor arguments.\n",
    "\n",
    "rho_q is a variable. It can take any value between 0 and 10 with a uniform probability. All the\n",
    "other arguments are constants.\n",
    "\"\"\"\n",
    "\n",
    "model = af.Model(\n",
    "    TrailModel,\n",
    "    rho_q=af.UniformPrior(\n",
    "        lower_limit=0.0,\n",
    "        upper_limit=10.0,\n",
    "    ),\n",
    "    beta=beta,\n",
    "    w=w,\n",
    "    a=a,\n",
    "    b=b,\n",
    "    c=c,\n",
    "    tau_a=tau_a,\n",
    "    tau_b=tau_b,\n",
    "    tau_c=tau_c,\n",
    ")"
   ],
   "metadata": {
    "collapsed": false,
    "pycharm": {
     "name": "#%%\n"
    }
   }
  },
  {
   "cell_type": "code",
   "execution_count": 13,
   "outputs": [
    {
     "name": "stdout",
     "output_type": "stream",
     "text": [
      "2022-10-07 11:23:49,251 - autofit.non_linear.abstract_search - INFO - Creating search\n",
      "2022-10-07 11:23:49,253 - root - INFO - Starting search\n",
      "2022-10-07 11:23:49,254 - root - INFO - Saving path info\n",
      "2022-10-07 11:23:49,254 - root - INFO - Not complete. Starting non-linear search.\n",
      "2022-10-07 11:23:49,255 - autofit.non_linear.initializer - INFO - Generating initial samples of model, which are subject to prior limits and other constraints.\n",
      "2022-10-07 11:23:49,265 - root - INFO - No Dynesty samples found, beginning new non-linear search. \n"
     ]
    },
    {
     "name": "stderr",
     "output_type": "stream",
     "text": [
      "363it [00:01, 241.51it/s, +50 | bound: 5 | nc: 1 | ncall: 2398 | eff(%): 17.223 | loglstar:   -inf < -7.397 <    inf | logz: -11.724 +/-  0.385 | dlogz:  0.001 >  0.059]"
     ]
    },
    {
     "name": "stdout",
     "output_type": "stream",
     "text": [
      "2022-10-07 11:23:50,783 - root - INFO - 5000 Iterations: Performing update (Visualization, outputting samples, etc.).\n"
     ]
    },
    {
     "name": "stderr",
     "output_type": "stream",
     "text": [
      "\n",
      "363it [00:00, 132061.09it/s, +50 | bound: 5 | nc: 1 | ncall: 2398 | eff(%): 17.223 | loglstar:   -inf < -7.397 <    inf | logz: -11.724 +/-  0.385 | dlogz:  0.001 >  0.059]"
     ]
    },
    {
     "name": "stdout",
     "output_type": "stream",
     "text": [
      "2022-10-07 11:23:50,813 - root - INFO - 10000 Iterations: Performing update (Visualization, outputting samples, etc.).\n",
      "2022-10-07 11:23:50,827 - root - INFO - 15000 Iterations: Performing update (Visualization, outputting samples, etc.).\n"
     ]
    },
    {
     "name": "stderr",
     "output_type": "stream",
     "text": [
      "\n"
     ]
    },
    {
     "name": "stdout",
     "output_type": "stream",
     "text": [
      "2022-10-07 11:23:52,491 - root - INFO - Removing zip file\n"
     ]
    },
    {
     "data": {
      "text/plain": "<Figure size 648x648 with 1 Axes>",
      "image/png": "[encoded data removed]"
     },
     "metadata": {
      "needs_background": "light"
     },
     "output_type": "display_data"
    }
   ],
   "source": [
    "\"\"\"\n",
    "We make an instance of the analysis, passing it the data and associated variables.\n",
    "\"\"\"\n",
    "\n",
    "analysis = Analysis(\n",
    "    x=x,\n",
    "    y=y,\n",
    "    noise=noise,\n",
    "    n_e=n_e,\n",
    "    n_bg=n_bg,\n",
    "    row=row,\n",
    ")\n",
    "\n",
    "\"\"\"\n",
    "We make our optimiser which we can configure\n",
    "\"\"\"\n",
    "\n",
    "dynesty = af.DynestyStatic()\n",
    "\n",
    "\"\"\"\n",
    "Optimisation is performed by passing the model and the analysis to the fit function\n",
    "\"\"\"\n",
    "\n",
    "result = dynesty.fit(\n",
    "    model=model,\n",
    "    analysis=analysis,\n",
    ")"
   ],
   "metadata": {
    "collapsed": false,
    "pycharm": {
     "name": "#%%\n"
    }
   }
  },
  {
   "cell_type": "code",
   "execution_count": 15,
   "outputs": [
    {
     "name": "stdout",
     "output_type": "stream",
     "text": [
      "log likelihood = -7.3969661947440875\n",
      "rho_q = 0.56563844415879\n"
     ]
    }
   ],
   "source": [
    "\"\"\"\n",
    "The log likelihood and best parametrisation can be found from the result\n",
    "\"\"\"\n",
    "\n",
    "print(f\"log likelihood = {result.log_likelihood}\")\n",
    "\n",
    "best_trail_model = result.instance\n",
    "\n",
    "print(f\"rho_q = {best_trail_model.rho_q}\")"
   ],
   "metadata": {
    "collapsed": false,
    "pycharm": {
     "name": "#%%\n"
    }
   }
  }
 ],
 "metadata": {
  "kernelspec": {
   "display_name": "Python 3",
   "language": "python",
   "name": "python3"
  },
  "language_info": {
   "codemirror_mode": {
    "name": "ipython",
    "version": 2
   },
   "file_extension": ".py",
   "mimetype": "text/x-python",
   "name": "python",
   "nbconvert_exporter": "python",
   "pygments_lexer": "ipython2",
   "version": "2.7.6"
  }
 },
 "nbformat": 4,
 "nbformat_minor": 0
}