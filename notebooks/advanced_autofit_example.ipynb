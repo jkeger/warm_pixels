{
 "cells": [
  {
   "cell_type": "code",
   "execution_count": 1,
   "metadata": {
    "collapsed": true
   },
   "outputs": [
    {
     "data": {
      "text/plain": "[<matplotlib.lines.Line2D at 0x7ff8d0659370>]"
     },
     "execution_count": 1,
     "metadata": {},
     "output_type": "execute_result"
    },
    {
     "data": {
      "text/plain": "<Figure size 648x648 with 1 Axes>",
      "image/png": "[encoded data removed]"
     },
     "metadata": {
      "needs_background": "light"
     },
     "output_type": "display_data"
    }
   ],
   "source": [
    "import os.path\n",
    "import pickle\n",
    "from pathlib import Path\n",
    "\n",
    "import autofit as af\n",
    "from matplotlib import pyplot as plt\n",
    "\n",
    "from warm_pixels import hst_utilities as ut\n",
    "\n",
    "data_directory = Path(os.path.abspath(\"\")) / \"data\"\n",
    "\n",
    "\n",
    "def load_data(name):\n",
    "    with open(data_directory / f\"{name}.pickle\", \"r+b\") as f:\n",
    "        return pickle.load(f)\n",
    "\n",
    "\n",
    "date = load_data(\"date\")\n",
    "x = load_data(\"x\")\n",
    "y = load_data(\"y\")\n",
    "noise = load_data(\"noise\")\n",
    "n_e = load_data(\"n_e\")\n",
    "n_bg = load_data(\"n_bg\")\n",
    "row = load_data(\"row\")\n",
    "\n",
    "plt.plot(x, y)"
   ]
  },
  {
   "cell_type": "code",
   "execution_count": 2,
   "outputs": [],
   "source": [
    "from warm_pixels.fit.model import TrailModel\n",
    "\n",
    "\n",
    "# CCD\n",
    "rho_q=af.UniformPrior(\n",
    "    lower_limit=0.0,\n",
    "    upper_limit=10.0,\n",
    ")\n",
    "beta=af.GaussianPrior(\n",
    "    mean=0.478,\n",
    "    sigma=0.1,\n",
    ")\n",
    "w = af.GaussianPrior(\n",
    "    mean=84700.0,\n",
    "    sigma=20000,\n",
    ")\n",
    "# Trap species\n",
    "a = af.UniformPrior(\n",
    "    lower_limit=0.0,\n",
    "    upper_limit=1.0,\n",
    ")\n",
    "b = af.UniformPrior(\n",
    "    lower_limit=0.0,\n",
    "    upper_limit=1.0,\n",
    ")\n",
    "c = 1 - (a + b)\n",
    "\n",
    "# Trap lifetimes before or after the temperature change\n",
    "if date < ut.date_T_change:\n",
    "    tau_a_mean = 0.48\n",
    "    tau_b_mean = 4.86\n",
    "    tau_c_mean = 20.6\n",
    "else:\n",
    "    tau_a_mean = 0.74\n",
    "    tau_b_mean = 7.70\n",
    "    tau_c_mean = 37.0\n",
    "\n",
    "tau_a = af.GaussianPrior(\n",
    "    mean=tau_a_mean,\n",
    "    sigma=0.2,\n",
    ")\n",
    "tau_b = af.GaussianPrior(\n",
    "    mean=tau_b_mean,\n",
    "    sigma=2.0,\n",
    ")\n",
    "tau_c = af.GaussianPrior(\n",
    "    mean=tau_c_mean,\n",
    "    sigma=10.0,\n",
    ")\n",
    "\n",
    "model = af.Model(\n",
    "    TrailModel,\n",
    "    rho_q=af.UniformPrior(\n",
    "        lower_limit=0.0,\n",
    "        upper_limit=10.0,\n",
    "    ),\n",
    "    beta=af.GaussianPrior(\n",
    "        mean=0.478,\n",
    "        sigma=0.1,\n",
    "    ),\n",
    "    w=w,\n",
    "    a=a,\n",
    "    b=b,\n",
    "    c=c,\n",
    "    tau_a=tau_a,\n",
    "    tau_b=tau_b,\n",
    "    tau_c=tau_c,\n",
    ")\n",
    "\n",
    "model.add_assertion(c > 0.0)"
   ],
   "metadata": {
    "collapsed": false,
    "pycharm": {
     "name": "#%%\n"
    }
   }
  },
  {
   "cell_type": "code",
   "execution_count": null,
   "outputs": [
    {
     "name": "stdout",
     "output_type": "stream",
     "text": [
      "2022-10-07 15:13:37,177 - autofit.non_linear.abstract_search - INFO - Creating search\n",
      "2022-10-07 15:13:37,205 - root - INFO - Starting search\n",
      "2022-10-07 15:13:37,206 - root - INFO - Saving path info\n",
      "2022-10-07 15:13:37,207 - root - INFO - Not complete. Starting non-linear search.\n",
      "2022-10-07 15:13:37,208 - autofit.non_linear.initializer - INFO - Generating initial samples of model, which are subject to prior limits and other constraints.\n",
      "2022-10-07 15:13:37,330 - root - INFO - No Dynesty samples found, beginning new non-linear search. \n"
     ]
    },
    {
     "name": "stderr",
     "output_type": "stream",
     "text": [
      "200it [34:26, 248.91s/it, bound: 16 | nc: 81 | ncall: 2529 | eff(%):  7.908 | loglstar:   -inf < -9.002 <    inf | logz: -13.942 +/-  0.403 | dlogz:  3.541 >  0.059] "
     ]
    }
   ],
   "source": [
    "from warm_pixels.fit.analysis import Analysis\n",
    "\n",
    "\"\"\"\n",
    "We make an instance of the analysis, passing it the data and associated variables.\n",
    "\"\"\"\n",
    "\n",
    "analysis = Analysis(\n",
    "    x=x,\n",
    "    y=y,\n",
    "    noise=noise,\n",
    "    n_e=n_e,\n",
    "    n_bg=n_bg,\n",
    "    row=row,\n",
    ")\n",
    "\n",
    "\"\"\"\n",
    "We make our optimiser which we can configure\n",
    "\"\"\"\n",
    "\n",
    "dynesty = af.DynestyStatic()\n",
    "\n",
    "\"\"\"\n",
    "Optimisation is performed by passing the model and the analysis to the fit function\n",
    "\"\"\"\n",
    "\n",
    "result = dynesty.fit(\n",
    "    model=model,\n",
    "    analysis=analysis,\n",
    ")"
   ],
   "metadata": {
    "collapsed": false,
    "pycharm": {
     "name": "#%%\n",
     "is_executing": true
    }
   }
  },
  {
   "cell_type": "code",
   "execution_count": null,
   "outputs": [],
   "source": [
    "\"\"\"\n",
    "The log likelihood and best parametrisation can be found from the result\n",
    "\"\"\"\n",
    "\n",
    "print(f\"log likelihood = {result.log_likelihood}\")\n",
    "\n",
    "best_trail_model = result.instance\n",
    "\n",
    "print(f\"rho_q = {best_trail_model.rho_q}\")"
   ],
   "metadata": {
    "collapsed": false,
    "pycharm": {
     "name": "#%%\n",
     "is_executing": true
    }
   }
  }
 ],
 "metadata": {
  "kernelspec": {
   "display_name": "Python 3",
   "language": "python",
   "name": "python3"
  },
  "language_info": {
   "codemirror_mode": {
    "name": "ipython",
    "version": 2
   },
   "file_extension": ".py",
   "mimetype": "text/x-python",
   "name": "python",
   "nbconvert_exporter": "python",
   "pygments_lexer": "ipython2",
   "version": "2.7.6"
  }
 },
 "nbformat": 4,
 "nbformat_minor": 0
}