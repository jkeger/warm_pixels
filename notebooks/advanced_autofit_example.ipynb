{
 "cells": [
  {
   "cell_type": "code",
   "execution_count": 1,
   "metadata": {
    "collapsed": true
   },
   "outputs": [],
   "source": [
    "\n",
    "import autofit as af\n",
    "from warm_pixels import hst_utilities as ut, PixelLine\n",
    "\n",
    "pixel_line_dict = {\n",
    "    \"location\": [\n",
    "        13,\n",
    "        0\n",
    "    ],\n",
    "    \"date\": 2453963.758414352,\n",
    "    \"background\": 31.30540652532858,\n",
    "    \"flux\": 1760.68,\n",
    "    \"data\": [\n",
    "        52.64056497616352,\n",
    "        48.48841447972527,\n",
    "        49.40091619555943,\n",
    "        48.330892024903015,\n",
    "        47.84054545587673,\n",
    "        49.30878150582641,\n",
    "        48.7121868929113,\n",
    "        49.20193282738758,\n",
    "        48.38848720733444,\n",
    "        47.789888907267816,\n",
    "        46.1216780158082,\n",
    "        47.62116196030635,\n",
    "        2316.1096385003216,\n",
    "        52.00117416910645,\n",
    "        47.39681472247756,\n",
    "        49.04053644125149,\n",
    "        50.73253979945862,\n",
    "        48.887028747158176,\n",
    "        49.761016613247854,\n",
    "        50.582789329908614,\n",
    "        49.89475223938497,\n",
    "        47.96562226593793,\n",
    "        48.13477786554208,\n",
    "        51.41839400253888,\n",
    "        49.58684465281521\n",
    "    ],\n",
    "    \"noise\": [\n",
    "        1.7182103404229303,\n",
    "        1.1166195237573258,\n",
    "        1.2968256178459387,\n",
    "        0.972655469471766,\n",
    "        0.6973247704784217,\n",
    "        0.9908904439992736,\n",
    "        1.14339830068772,\n",
    "        1.3159924814976593,\n",
    "        0.859036863542967,\n",
    "        0.8633995566280004,\n",
    "        0.40491942438735434,\n",
    "        0.7045832874622435,\n",
    "        6.9356449752906215,\n",
    "        0.8668206366957554,\n",
    "        0.4286787210661135,\n",
    "        0.9599202153163372,\n",
    "        1.4048511101130459,\n",
    "        0.6924283058142602,\n",
    "        1.1834516970981601,\n",
    "        1.1475066293762684,\n",
    "        0.9786730064496794,\n",
    "        0.9350281902071158,\n",
    "        0.8393195956710766,\n",
    "        1.3560323220866162,\n",
    "        1.2543348504815965\n",
    "    ],\n",
    "    \"trail\": {\n",
    "        \"background\": 49.3402666264456,\n",
    "        \"flux\": 2316.1096385003216,\n",
    "        \"data\": [\n",
    "            4.380012208800096,\n",
    "            1.2751367066693575,\n",
    "            1.250647533983674,\n",
    "            2.3440525921241786,\n",
    "            -0.31490408022940386,\n",
    "            1.0488297203365562,\n",
    "            1.2740078240822044,\n",
    "            2.054206783508242,\n",
    "            -0.3652697589650842,\n",
    "            -1.2661383300173554,\n",
    "            2.9299795228136105,\n",
    "            -3.0537203233483083\n",
    "        ],\n",
    "        \"noise\": [\n",
    "            1.1170566794808299,\n",
    "            0.5896822755866629,\n",
    "            1.2910869893846777,\n",
    "            1.6466787708935813,\n",
    "            1.487041751280432,\n",
    "            1.6455751557981426,\n",
    "            1.516125105811378,\n",
    "            1.2016915948262423,\n",
    "            1.3491984208319159,\n",
    "            1.544737539771388,\n",
    "            1.7566054819963581,\n",
    "            2.12734639658636\n",
    "        ]\n",
    "    }\n",
    "}\n",
    "\n",
    "pixel_line = PixelLine.from_dict(pixel_line_dict)\n",
    "date = pixel_line_dict[\"date\"]"
   ]
  },
  {
   "cell_type": "code",
   "execution_count": 2,
   "outputs": [],
   "source": [
    "from warm_pixels.fit.model import TrailModel\n",
    "\n",
    "# CCD\n",
    "beta = 0.478\n",
    "w = 84700.0\n",
    "# Trap species\n",
    "a = 0.17\n",
    "b = 0.45\n",
    "c = 0.38\n",
    "# Trap lifetimes before or after the temperature change\n",
    "if date < ut.date_T_change:\n",
    "    tau_a = 0.48\n",
    "    tau_b = 4.86\n",
    "    tau_c = 20.6\n",
    "else:\n",
    "    tau_a = 0.74\n",
    "    tau_b = 7.70\n",
    "    tau_c = 37.0\n",
    "\n",
    "# CCD\n",
    "rho_q = af.UniformPrior(\n",
    "    lower_limit=0.0,\n",
    "    upper_limit=10.0,\n",
    ")\n",
    "beta = af.GaussianPrior(\n",
    "    mean=0.478,\n",
    "    sigma=0.1,\n",
    ")\n",
    "# w = af.GaussianPrior(\n",
    "#     mean=84700.0,\n",
    "#     sigma=20000,\n",
    "# )\n",
    "# # Trap species\n",
    "# a = af.UniformPrior(\n",
    "#     lower_limit=0.0,\n",
    "#     upper_limit=1.0,\n",
    "# )\n",
    "# b = af.UniformPrior(\n",
    "#     lower_limit=0.0,\n",
    "#     upper_limit=1.0,\n",
    "# )\n",
    "# c = 1 - (a + b)\n",
    "#\n",
    "# tau_a = af.GaussianPrior(\n",
    "#     mean=tau_a,\n",
    "#     sigma=0.2,\n",
    "# )\n",
    "# tau_b = af.GaussianPrior(\n",
    "#     mean=tau_b,\n",
    "#     sigma=2.0,\n",
    "# )\n",
    "# tau_c = af.GaussianPrior(\n",
    "#     mean=tau_c,\n",
    "#     sigma=10.0,\n",
    "# )\n",
    "\n",
    "model = af.Model(\n",
    "    TrailModel,\n",
    "    rho_q=rho_q,\n",
    "    beta=beta,\n",
    "    w=w,\n",
    "    a=a,\n",
    "    b=b,\n",
    "    c=c,\n",
    "    tau_a=tau_a,\n",
    "    tau_b=tau_b,\n",
    "    tau_c=tau_c,\n",
    ")\n",
    "\n",
    "model.add_assertion(c > 0.0)"
   ],
   "metadata": {
    "collapsed": false,
    "pycharm": {
     "name": "#%%\n"
    }
   }
  },
  {
   "cell_type": "code",
   "execution_count": 3,
   "outputs": [
    {
     "name": "stdout",
     "output_type": "stream",
     "text": [
      "2022-10-10 09:56:14,092 - autofit.non_linear.abstract_search - INFO - Creating search\n",
      "2022-10-10 09:56:14,132 - root - INFO - Starting search\n",
      "2022-10-10 09:56:14,133 - root - INFO - Saving path info\n",
      "2022-10-10 09:56:14,134 - root - INFO - Not complete. Starting non-linear search.\n",
      "2022-10-10 09:56:14,135 - autofit.non_linear.initializer - INFO - Generating initial samples of model, which are subject to prior limits and other constraints.\n",
      "2022-10-10 09:56:14,163 - root - INFO - No Dynesty samples found, beginning new non-linear search. \n"
     ]
    },
    {
     "name": "stderr",
     "output_type": "stream",
     "text": [
      "231it [00:00, 261.57it/s, +50 | bound: 2 | nc: 1 | ncall: 2161 | eff(%): 13.003 | loglstar:   -inf < -20.115 <    inf | logz: -21.830 +/-  0.206 | dlogz:  0.001 >  0.059]"
     ]
    },
    {
     "name": "stdout",
     "output_type": "stream",
     "text": [
      "2022-10-10 09:56:15,064 - root - INFO - 5000 Iterations: Performing update (Visualization, outputting samples, etc.).\n"
     ]
    },
    {
     "name": "stderr",
     "output_type": "stream",
     "text": [
      "\n",
      "231it [00:00, 100350.52it/s, +50 | bound: 2 | nc: 1 | ncall: 2161 | eff(%): 13.003 | loglstar:   -inf < -20.115 <    inf | logz: -21.830 +/-  0.206 | dlogz:  0.001 >  0.059]"
     ]
    },
    {
     "name": "stdout",
     "output_type": "stream",
     "text": [
      "2022-10-10 09:56:15,083 - root - INFO - 10000 Iterations: Performing update (Visualization, outputting samples, etc.).\n",
      "2022-10-10 09:56:15,096 - root - INFO - 15000 Iterations: Performing update (Visualization, outputting samples, etc.).\n"
     ]
    },
    {
     "name": "stderr",
     "output_type": "stream",
     "text": [
      "\n"
     ]
    },
    {
     "name": "stdout",
     "output_type": "stream",
     "text": [
      "2022-10-10 09:56:17,213 - root - INFO - Removing zip file\n"
     ]
    },
    {
     "data": {
      "text/plain": "<Figure size 648x648 with 1 Axes>",
      "image/png": "[encoded data removed]"
     },
     "metadata": {
      "needs_background": "light"
     },
     "output_type": "display_data"
    }
   ],
   "source": [
    "from warm_pixels.fit.analysis import Analysis\n",
    "from matplotlib import pyplot as plt\n",
    "\n",
    "\"\"\"\n",
    "We make an instance of the analysis, passing it the data and associated variables.\n",
    "\"\"\"\n",
    "\n",
    "analysis = Analysis(\n",
    "    pixel_line=pixel_line,\n",
    ")\n",
    "plt.plot(analysis.x, analysis.y)\n",
    "\n",
    "\"\"\"\n",
    "We make our optimiser which we can configure\n",
    "\"\"\"\n",
    "\n",
    "dynesty = af.DynestyStatic()\n",
    "\n",
    "\"\"\"\n",
    "Optimisation is performed by passing the model and the analysis to the fit function\n",
    "\"\"\"\n",
    "\n",
    "result = dynesty.fit(\n",
    "    model=model,\n",
    "    analysis=analysis,\n",
    ")"
   ],
   "metadata": {
    "collapsed": false,
    "pycharm": {
     "name": "#%%\n"
    }
   }
  },
  {
   "cell_type": "code",
   "execution_count": 5,
   "outputs": [
    {
     "name": "stdout",
     "output_type": "stream",
     "text": [
      "log likelihood = -20.11483288451997\n",
      "rho_q = 8.34020535815762\n",
      "beta = 0.41554290399722216\n"
     ]
    }
   ],
   "source": [
    "\"\"\"\n",
    "The log likelihood and best parametrisation can be found from the result\n",
    "\"\"\"\n",
    "\n",
    "print(f\"log likelihood = {result.log_likelihood}\")\n",
    "\n",
    "best_trail_model = result.instance\n",
    "\n",
    "print(f\"rho_q = {best_trail_model.rho_q}\")\n",
    "print(f\"beta = {best_trail_model.beta}\")"
   ],
   "metadata": {
    "collapsed": false,
    "pycharm": {
     "name": "#%%\n"
    }
   }
  }
 ],
 "metadata": {
  "kernelspec": {
   "display_name": "Python 3",
   "language": "python",
   "name": "python3"
  },
  "language_info": {
   "codemirror_mode": {
    "name": "ipython",
    "version": 2
   },
   "file_extension": ".py",
   "mimetype": "text/x-python",
   "name": "python",
   "nbconvert_exporter": "python",
   "pygments_lexer": "ipython2",
   "version": "2.7.6"
  }
 },
 "nbformat": 4,
 "nbformat_minor": 0
}